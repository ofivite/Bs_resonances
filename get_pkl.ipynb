{
 "cells": [
  {
   "cell_type": "code",
   "execution_count": 1,
   "metadata": {
    "collapsed": false,
    "slideshow": {
     "slide_type": "slide"
    }
   },
   "outputs": [
    {
     "name": "stdout",
     "output_type": "stream",
     "text": [
      "Welcome to JupyROOT 6.14/04\n",
      "Populating the interactive namespace from numpy and matplotlib\n"
     ]
    }
   ],
   "source": [
    "import ROOT\n",
    "from ROOT import RooFit as RF\n",
    "import root_numpy as rnp\n",
    "from root_pandas import read_root\n",
    "\n",
    "import pandas as pd\n",
    "import numpy as np\n",
    "import seaborn as sns\n",
    "import matplotlib.pyplot as plt     \n",
    "import graphviz\n",
    "\n",
    "from IPython.display import Image        ## plot png/jpeg with:  Image(filename=('./temp/my_plot.png'))\n",
    "# from wand.image import Image as WImage   ## plot pdf with:       WImage(filename='hat.pdf[1]')   [1] - page number\n",
    "%pylab inline       "
   ]
  },
  {
   "cell_type": "code",
   "execution_count": 2,
   "metadata": {
    "slideshow": {
     "slide_type": "slide"
    }
   },
   "outputs": [],
   "source": [
    "variables = ( [\n",
    "\n",
    "'nB', 'nB_id', 'SAMEEVENT',\n",
    "    \n",
    "\"K1_pt\", \"K1_eta\", \n",
    "\"K2_pt\", \"K2_eta\",\n",
    "    \n",
    "\"pipi_pt\", \"KK_pt\", \"pi1K1_pt\", \"pi1K2_pt\", \"pi2K1_pt\", \"pi2K2_pt\",\n",
    "    \n",
    "\"PI1_pt\", \"PI1_eta\",\n",
    "\"PI2_pt\", \"PI2_eta\",\n",
    "    \n",
    "'mu_1_pt',  'mu_1_eta',\n",
    "'mu_2_pt',  'mu_2_eta', \n",
    "\n",
    "'JP_pt', 'JP_eta',\n",
    "'phi_pt', 'phi_eta',\n",
    "# 'psi_pt',   'psi_eta',\n",
    "    \n",
    "###  \n",
    "\"PIPI_mass_Cjp\", \"PHI_mass_Cjp\", \"BU_mass_Cjp\", \"JPSI_mass_Cmumu\", \n",
    "    \n",
    "### \n",
    "\"JPSI_vtxprob_Cmumu\", \"JPSI_pvcos2_Cmumu\", \"JPSI_pvdistsignif2_Cmumu\",\n",
    "    \n",
    "###    \n",
    "\"BU_pt_Cjp\", 'BU_eta_Cjp',\n",
    "    \n",
    "###   \n",
    "\"BU_pvdistsignif2_Cjp\", \"BU_pvdistsignif2_Cjp_Martino\", \"BU_pvdistsignif2_Cjp_mine\", \"BU_pvdistsignif3_Cjp\", \n",
    "\"BU_pvcos2_Cjp\", \"BU_vtxprob_Cjp\",\n",
    "    \n",
    "###\n",
    "\"PV_bestBang_RF_CL\"\n",
    "    \n",
    "] ) \n",
    "\n",
    "psi_vars = ['psi_mass_Cjp', 'psi_pt', 'psi_eta']\n",
    "X_vars = ['X_mass_Cjp', 'X_pt', 'X_eta']\n",
    "MC_vars = [\"dR_mu1\", \"dR_mu2\", \"dR_pi1\", \"dR_pi2\", \"dR_K1\", \"dR_K2\",\n",
    "           \"dR_mu1_vv\", \"dR_mu2_vv\", \"dR_pi1_vv\", \"dR_pi2_vv\", \"dR_K1_vv\", \"dR_K2_vv\",\n",
    "           'gen_phi_mass', 'delta_phi_mass',\n",
    "           \"BU_reflmass1_Cjp\", \"BU_reflmass2_Cjp\"] \n",
    "\n",
    "# MC = read_root('BsToPsiPhi_Smatch_v1_pair_dR_psi_renamed.root', columns = variables + MC_vars + psi_vars) # psi\n",
    "# data = read_root('../../Bs_resonances/new_2_with_more_B0_e3de87.root', columns = variables + X_vars)\n",
    "data = read_root('/home/yaourt/new_2_with_more_B0_nB_4000_DS_and_pt_v2_791587.root', columns = variables + X_vars)\n",
    "data = data.dropna()"
   ]
  },
  {
   "cell_type": "code",
   "execution_count": 3,
   "metadata": {},
   "outputs": [],
   "source": [
    "X_mask   = (data.X_mass_Cjp > 3.67)   & (data.X_mass_Cjp < 3.7)\n",
    "phi_mask = (data.PHI_mass_Cjp > 1.01) & (data.PHI_mass_Cjp < 1.03) \n",
    "B_mask   = (data.BU_mass_Cjp > 5.34)  & (data.BU_mass_Cjp < 5.4)\n",
    "mpipi_mask = (data.PIPI_mass_Cjp > 0.4) & (data.PIPI_mass_Cjp < 0.6)\n",
    "current_BsDS_mask  = data.BU_pvdistsignif2_Cjp > 5\n",
    "current_jpsiDS_mask = data.JPSI_pvdistsignif2_Cmumu > 3\n",
    "\n",
    "data_sig_window = data[X_mask & phi_mask & B_mask]\n",
    "data_sig_pipi_window = data[X_mask & phi_mask & B_mask & mpipi_mask]\n",
    "data_sig_wo_psi_window = data[phi_mask & B_mask]\n",
    "data_sig_wo_psi_pipi_window = data[phi_mask & B_mask & mpipi_mask]\n",
    "\n",
    "data_sig_current_DS = data[X_mask & phi_mask & B_mask & mpipi_mask & current_BsDS_mask & current_jpsiDS_mask]"
   ]
  },
  {
   "cell_type": "code",
   "execution_count": 4,
   "metadata": {},
   "outputs": [
    {
     "data": {
      "text/plain": [
       "Index(['mu_2_pt', 'BU_pt_Cjp', 'X_pt', 'PIPI_mass_Cjp', 'pi1K1_pt', 'X_eta',\n",
       "       'PI2_eta', 'JP_pt', 'PI1_pt', 'mu_2_eta', 'phi_eta', 'pi2K2_pt',\n",
       "       'BU_vtxprob_Cjp', 'K2_eta', 'KK_pt', 'K1_eta', 'BU_pvdistsignif2_Cjp',\n",
       "       'pi1K2_pt', 'JPSI_pvcos2_Cmumu', 'BU_pvdistsignif3_Cjp', 'SAMEEVENT',\n",
       "       'nB', 'BU_eta_Cjp', 'BU_pvdistsignif2_Cjp_Martino', 'X_mass_Cjp',\n",
       "       'PHI_mass_Cjp', 'JPSI_mass_Cmumu', 'JPSI_pvdistsignif2_Cmumu',\n",
       "       'mu_1_pt', 'nB_id', 'PI2_pt', 'JP_eta', 'mu_1_eta',\n",
       "       'BU_pvdistsignif2_Cjp_mine', 'K1_pt', 'PV_bestBang_RF_CL', 'PI1_eta',\n",
       "       'phi_pt', 'pi2K1_pt', 'pipi_pt', 'BU_pvcos2_Cjp', 'JPSI_vtxprob_Cmumu',\n",
       "       'K2_pt', 'BU_mass_Cjp'],\n",
       "      dtype='object')"
      ]
     },
     "execution_count": 4,
     "metadata": {},
     "output_type": "execute_result"
    }
   ],
   "source": [
    "data.columns"
   ]
  },
  {
   "cell_type": "code",
   "execution_count": 5,
   "metadata": {},
   "outputs": [
    {
     "data": {
      "text/html": [
       "<div>\n",
       "<style scoped>\n",
       "    .dataframe tbody tr th:only-of-type {\n",
       "        vertical-align: middle;\n",
       "    }\n",
       "\n",
       "    .dataframe tbody tr th {\n",
       "        vertical-align: top;\n",
       "    }\n",
       "\n",
       "    .dataframe thead th {\n",
       "        text-align: right;\n",
       "    }\n",
       "</style>\n",
       "<table border=\"1\" class=\"dataframe\">\n",
       "  <thead>\n",
       "    <tr style=\"text-align: right;\">\n",
       "      <th></th>\n",
       "      <th>mu_2_pt</th>\n",
       "      <th>BU_pt_Cjp</th>\n",
       "      <th>X_pt</th>\n",
       "      <th>PIPI_mass_Cjp</th>\n",
       "      <th>pi1K1_pt</th>\n",
       "      <th>X_eta</th>\n",
       "      <th>PI2_eta</th>\n",
       "      <th>JP_pt</th>\n",
       "      <th>PI1_pt</th>\n",
       "      <th>mu_2_eta</th>\n",
       "      <th>...</th>\n",
       "      <th>K1_pt</th>\n",
       "      <th>PV_bestBang_RF_CL</th>\n",
       "      <th>PI1_eta</th>\n",
       "      <th>phi_pt</th>\n",
       "      <th>pi2K1_pt</th>\n",
       "      <th>pipi_pt</th>\n",
       "      <th>BU_pvcos2_Cjp</th>\n",
       "      <th>JPSI_vtxprob_Cmumu</th>\n",
       "      <th>K2_pt</th>\n",
       "      <th>BU_mass_Cjp</th>\n",
       "    </tr>\n",
       "  </thead>\n",
       "  <tbody>\n",
       "    <tr>\n",
       "      <th>0</th>\n",
       "      <td>6.079861</td>\n",
       "      <td>16.839408</td>\n",
       "      <td>15.220870</td>\n",
       "      <td>0.816658</td>\n",
       "      <td>2.697303</td>\n",
       "      <td>-0.498242</td>\n",
       "      <td>-0.318851</td>\n",
       "      <td>12.855789</td>\n",
       "      <td>1.920597</td>\n",
       "      <td>-0.259383</td>\n",
       "      <td>...</td>\n",
       "      <td>0.832825</td>\n",
       "      <td>0.999997</td>\n",
       "      <td>-0.378099</td>\n",
       "      <td>1.622729</td>\n",
       "      <td>1.420084</td>\n",
       "      <td>2.405431</td>\n",
       "      <td>0.999371</td>\n",
       "      <td>0.500193</td>\n",
       "      <td>0.792328</td>\n",
       "      <td>5.374444</td>\n",
       "    </tr>\n",
       "    <tr>\n",
       "      <th>1</th>\n",
       "      <td>15.648944</td>\n",
       "      <td>34.306646</td>\n",
       "      <td>31.028665</td>\n",
       "      <td>0.459651</td>\n",
       "      <td>8.937843</td>\n",
       "      <td>-0.269583</td>\n",
       "      <td>-0.257914</td>\n",
       "      <td>20.152593</td>\n",
       "      <td>7.088191</td>\n",
       "      <td>-0.279723</td>\n",
       "      <td>...</td>\n",
       "      <td>1.850064</td>\n",
       "      <td>0.527403</td>\n",
       "      <td>-0.268528</td>\n",
       "      <td>3.278809</td>\n",
       "      <td>5.663979</td>\n",
       "      <td>10.901585</td>\n",
       "      <td>0.999988</td>\n",
       "      <td>0.614785</td>\n",
       "      <td>1.425886</td>\n",
       "      <td>5.445889</td>\n",
       "    </tr>\n",
       "    <tr>\n",
       "      <th>2</th>\n",
       "      <td>7.622695</td>\n",
       "      <td>27.948860</td>\n",
       "      <td>20.594132</td>\n",
       "      <td>0.449944</td>\n",
       "      <td>9.349053</td>\n",
       "      <td>0.921641</td>\n",
       "      <td>0.726417</td>\n",
       "      <td>14.728140</td>\n",
       "      <td>4.841542</td>\n",
       "      <td>0.750872</td>\n",
       "      <td>...</td>\n",
       "      <td>4.537366</td>\n",
       "      <td>0.861919</td>\n",
       "      <td>0.835529</td>\n",
       "      <td>7.365029</td>\n",
       "      <td>5.622795</td>\n",
       "      <td>5.934651</td>\n",
       "      <td>0.999817</td>\n",
       "      <td>0.104749</td>\n",
       "      <td>2.823766</td>\n",
       "      <td>5.506572</td>\n",
       "    </tr>\n",
       "    <tr>\n",
       "      <th>3</th>\n",
       "      <td>7.622695</td>\n",
       "      <td>25.793126</td>\n",
       "      <td>18.434179</td>\n",
       "      <td>0.735202</td>\n",
       "      <td>7.326249</td>\n",
       "      <td>0.970037</td>\n",
       "      <td>0.879466</td>\n",
       "      <td>14.747077</td>\n",
       "      <td>2.791276</td>\n",
       "      <td>0.750872</td>\n",
       "      <td>...</td>\n",
       "      <td>4.537366</td>\n",
       "      <td>0.740230</td>\n",
       "      <td>1.029989</td>\n",
       "      <td>7.365385</td>\n",
       "      <td>5.423300</td>\n",
       "      <td>3.698396</td>\n",
       "      <td>0.999998</td>\n",
       "      <td>0.104749</td>\n",
       "      <td>2.823766</td>\n",
       "      <td>5.182262</td>\n",
       "    </tr>\n",
       "    <tr>\n",
       "      <th>4</th>\n",
       "      <td>7.622695</td>\n",
       "      <td>24.085764</td>\n",
       "      <td>16.728699</td>\n",
       "      <td>0.436816</td>\n",
       "      <td>5.622795</td>\n",
       "      <td>0.945089</td>\n",
       "      <td>0.879466</td>\n",
       "      <td>14.746788</td>\n",
       "      <td>1.093392</td>\n",
       "      <td>0.750872</td>\n",
       "      <td>...</td>\n",
       "      <td>4.537366</td>\n",
       "      <td>0.824596</td>\n",
       "      <td>0.726417</td>\n",
       "      <td>7.364809</td>\n",
       "      <td>5.423300</td>\n",
       "      <td>2.027498</td>\n",
       "      <td>0.999994</td>\n",
       "      <td>0.104749</td>\n",
       "      <td>2.823766</td>\n",
       "      <td>5.195252</td>\n",
       "    </tr>\n",
       "  </tbody>\n",
       "</table>\n",
       "<p>5 rows × 44 columns</p>\n",
       "</div>"
      ],
      "text/plain": [
       "     mu_2_pt  BU_pt_Cjp       X_pt  PIPI_mass_Cjp  pi1K1_pt     X_eta  \\\n",
       "0   6.079861  16.839408  15.220870       0.816658  2.697303 -0.498242   \n",
       "1  15.648944  34.306646  31.028665       0.459651  8.937843 -0.269583   \n",
       "2   7.622695  27.948860  20.594132       0.449944  9.349053  0.921641   \n",
       "3   7.622695  25.793126  18.434179       0.735202  7.326249  0.970037   \n",
       "4   7.622695  24.085764  16.728699       0.436816  5.622795  0.945089   \n",
       "\n",
       "    PI2_eta      JP_pt    PI1_pt  mu_2_eta     ...          K1_pt  \\\n",
       "0 -0.318851  12.855789  1.920597 -0.259383     ...       0.832825   \n",
       "1 -0.257914  20.152593  7.088191 -0.279723     ...       1.850064   \n",
       "2  0.726417  14.728140  4.841542  0.750872     ...       4.537366   \n",
       "3  0.879466  14.747077  2.791276  0.750872     ...       4.537366   \n",
       "4  0.879466  14.746788  1.093392  0.750872     ...       4.537366   \n",
       "\n",
       "   PV_bestBang_RF_CL   PI1_eta    phi_pt  pi2K1_pt    pipi_pt  BU_pvcos2_Cjp  \\\n",
       "0           0.999997 -0.378099  1.622729  1.420084   2.405431       0.999371   \n",
       "1           0.527403 -0.268528  3.278809  5.663979  10.901585       0.999988   \n",
       "2           0.861919  0.835529  7.365029  5.622795   5.934651       0.999817   \n",
       "3           0.740230  1.029989  7.365385  5.423300   3.698396       0.999998   \n",
       "4           0.824596  0.726417  7.364809  5.423300   2.027498       0.999994   \n",
       "\n",
       "   JPSI_vtxprob_Cmumu     K2_pt  BU_mass_Cjp  \n",
       "0            0.500193  0.792328     5.374444  \n",
       "1            0.614785  1.425886     5.445889  \n",
       "2            0.104749  2.823766     5.506572  \n",
       "3            0.104749  2.823766     5.182262  \n",
       "4            0.104749  2.823766     5.195252  \n",
       "\n",
       "[5 rows x 44 columns]"
      ]
     },
     "execution_count": 5,
     "metadata": {},
     "output_type": "execute_result"
    }
   ],
   "source": [
    "data.head()"
   ]
  },
  {
   "cell_type": "code",
   "execution_count": 6,
   "metadata": {},
   "outputs": [],
   "source": [
    "# data = data.rename(index=str, columns={\"X_mass_Cjp\": \"psi_mass_Cjp\", \"X_pt\": \"psi_pt\", \"X_eta\": \"psi_eta\"})"
   ]
  },
  {
   "cell_type": "markdown",
   "metadata": {},
   "source": [
    "### **$\\text{p}_\\text{T}$ studies**"
   ]
  },
  {
   "cell_type": "code",
   "execution_count": 8,
   "metadata": {},
   "outputs": [
    {
     "data": {
      "image/png": "[encoded data removed]",
      "text/plain": [
       "<Figure size 720x504 with 1 Axes>"
      ]
     },
     "metadata": {
      "needs_background": "light"
     },
     "output_type": "display_data"
    }
   ],
   "source": [
    "fig = plt.figure(figsize=(10,7))\n",
    "sns.distplot(data.pipi_pt)\n",
    "sns.distplot(data.KK_pt)\n",
    "plt.show()"
   ]
  },
  {
   "cell_type": "code",
   "execution_count": 9,
   "metadata": {},
   "outputs": [
    {
     "data": {
      "text/plain": [
       "476"
      ]
     },
     "execution_count": 9,
     "metadata": {},
     "output_type": "execute_result"
    }
   ],
   "source": [
    "sum(data_sig_window.pipi_pt > data_sig_window.KK_pt)"
   ]
  },
  {
   "cell_type": "code",
   "execution_count": 13,
   "metadata": {},
   "outputs": [
    {
     "data": {
      "text/plain": [
       "649"
      ]
     },
     "execution_count": 13,
     "metadata": {},
     "output_type": "execute_result"
    }
   ],
   "source": [
    "sum(data_sig_window.pipi_pt < data_sig_window.KK_pt)"
   ]
  },
  {
   "cell_type": "code",
   "execution_count": 55,
   "metadata": {},
   "outputs": [
    {
     "data": {
      "text/plain": [
       "203889"
      ]
     },
     "execution_count": 55,
     "metadata": {},
     "output_type": "execute_result"
    }
   ],
   "source": [
    "sum(data.PIPI_mass_Cjp < data.PHI_mass_Cjp)"
   ]
  },
  {
   "cell_type": "code",
   "execution_count": 11,
   "metadata": {},
   "outputs": [
    {
     "data": {
      "image/png": "[encoded data removed]",
      "text/plain": [
       "<Figure size 720x504 with 1 Axes>"
      ]
     },
     "metadata": {
      "needs_background": "light"
     },
     "output_type": "display_data"
    }
   ],
   "source": [
    "fig = plt.figure(figsize=(10,7))\n",
    "\n",
    "sns.distplot(data.PHI_mass_Cjp, label='KK (1st) pair')\n",
    "sns.distplot(data.PIPI_mass_Cjp, label='pipi (2nd) pair')\n",
    "\n",
    "plt.legend()\n",
    "plt.xlabel('')\n",
    "plt.show()\n",
    "fig.savefig('pair_mass.png')"
   ]
  },
  {
   "cell_type": "code",
   "execution_count": null,
   "metadata": {},
   "outputs": [],
   "source": []
  },
  {
   "cell_type": "markdown",
   "metadata": {},
   "source": [
    "### **DS studies**"
   ]
  },
  {
   "cell_type": "code",
   "execution_count": 8,
   "metadata": {},
   "outputs": [
    {
     "data": {
      "image/png": "[encoded data removed]",
      "text/plain": [
       "<Figure size 720x504 with 1 Axes>"
      ]
     },
     "metadata": {
      "needs_background": "light"
     },
     "output_type": "display_data"
    },
    {
     "data": {
      "image/png": "[encoded data removed]",
      "text/plain": [
       "<Figure size 720x504 with 1 Axes>"
      ]
     },
     "execution_count": 8,
     "metadata": {},
     "output_type": "execute_result"
    }
   ],
   "source": [
    "fig = plt.figure(figsize=(10,7))\n",
    "sns.distplot(data_sig_window.BU_pvdistsignif2_Cjp, label='current', bins=100)\n",
    "sns.distplot(data_sig_window.BU_pvdistsignif2_Cjp_Martino, label='suggested', bins=100)\n",
    "# sns.distplot(data_sig_window.BU_pvdistsignif2_Cjp_mine, label = 'mine', bins=100)\n",
    "plt.legend()\n",
    "\n",
    "plt.xlim(5, 100)\n",
    "plt.title('3x sig window')\n",
    "plt.show()"
   ]
  },
  {
   "cell_type": "code",
   "execution_count": 12,
   "metadata": {},
   "outputs": [
    {
     "data": {
      "image/png": "[encoded data removed]",
      "text/plain": [
       "<Figure size 720x504 with 1 Axes>"
      ]
     },
     "metadata": {
      "needs_background": "light"
     },
     "output_type": "display_data"
    }
   ],
   "source": [
    "fig = plt.figure(figsize=(10,7))\n",
    "sns.distplot(data_sig_pipi_window.BU_pvdistsignif2_Cjp, label='current', bins=100)\n",
    "sns.distplot(data_sig_pipi_window.BU_pvdistsignif2_Cjp_Martino, label='suggested', bins=100)\n",
    "# sns.distplot(data_sig_pipi_window.BU_pvdistsignif2_Cjp_mine, label = 'mine', bins=100)\n",
    "plt.legend()\n",
    "\n",
    "plt.xlim(5, 100)\n",
    "plt.title('3x sig window + m(pipi)')\n",
    "plt.show()\n",
    "fig.savefig('DSs.png')"
   ]
  },
  {
   "cell_type": "code",
   "execution_count": 20,
   "metadata": {},
   "outputs": [
    {
     "data": {
      "image/png": "[encoded data removed]",
      "text/plain": [
       "<Figure size 720x504 with 1 Axes>"
      ]
     },
     "metadata": {
      "needs_background": "light"
     },
     "output_type": "display_data"
    }
   ],
   "source": [
    "fig = plt.figure(figsize=(10,7))\n",
    "\n",
    "sns.distplot(data.BU_pvdistsignif2_Cjp, label='current', bins=400)\n",
    "sns.distplot(data.BU_pvdistsignif2_Cjp_Martino, label='Martino', bins=400)\n",
    "sns.distplot(data.BU_pvdistsignif2_Cjp_mine, label = 'mine', bins=400)\n",
    "plt.legend()\n",
    "\n",
    "plt.xlim(0, 100)\n",
    "plt.title('original')\n",
    "plt.show()"
   ]
  },
  {
   "cell_type": "code",
   "execution_count": 21,
   "metadata": {},
   "outputs": [
    {
     "name": "stdout",
     "output_type": "stream",
     "text": [
      "sig, current > 5 : 1076\n",
      "sig, Martino > 5 : 1007\n",
      "no sig window, current > 5 : 183340\n",
      "no sig window, Martino > 5 : 160340\n"
     ]
    }
   ],
   "source": [
    "print('sig, current > 5 :', sum(data_sig_window.BU_pvdistsignif2_Cjp > 5))\n",
    "print('sig, Martino > 5 :', sum(data_sig_window.BU_pvdistsignif2_Cjp_Martino > 5))\n",
    "print('no sig window, current > 5 :', sum(data.BU_pvdistsignif2_Cjp > 5))\n",
    "print('no sig window, Martino > 5 :', sum(data.BU_pvdistsignif2_Cjp_Martino > 5))"
   ]
  },
  {
   "cell_type": "code",
   "execution_count": 22,
   "metadata": {},
   "outputs": [
    {
     "name": "stdout",
     "output_type": "stream",
     "text": [
      "sig+pipi, current > 5 : 973\n",
      "sig+pipi, Martino > 5 : 920\n"
     ]
    }
   ],
   "source": [
    "print('sig+pipi, current > 5 :', sum(data_sig_pipi_window.BU_pvdistsignif2_Cjp > 5))\n",
    "print('sig+pipi, Martino > 5 :', sum(data_sig_pipi_window.BU_pvdistsignif2_Cjp_Martino > 5))"
   ]
  },
  {
   "cell_type": "code",
   "execution_count": 9,
   "metadata": {},
   "outputs": [
    {
     "data": {
      "image/png": "[encoded data removed]",
      "text/plain": [
       "<Figure size 720x504 with 1 Axes>"
      ]
     },
     "metadata": {
      "needs_background": "light"
     },
     "output_type": "display_data"
    }
   ],
   "source": [
    "fig = plt.figure(figsize=(10,7))\n",
    "\n",
    "sns.distplot(data_sig_wo_psi_pipi_window[data_sig_wo_psi_pipi_window.BU_pvdistsignif2_Cjp > 5].X_mass_Cjp, label='current', bins=200, kde=False)\n",
    "sns.distplot(data_sig_wo_psi_pipi_window[data_sig_wo_psi_pipi_window.BU_pvdistsignif2_Cjp_Martino > 5].X_mass_Cjp, label='suggested', bins=200, kde=False)\n",
    "plt.legend()\n",
    "plt.xlim((3.625, 3.75))\n",
    "\n",
    "plt.show()\n",
    "fig.savefig('psi_mass_DS.png')"
   ]
  },
  {
   "cell_type": "markdown",
   "metadata": {},
   "source": [
    "### **Fit them**"
   ]
  },
  {
   "cell_type": "code",
   "execution_count": 24,
   "metadata": {},
   "outputs": [],
   "source": [
    "import probfit\n",
    "import iminuit"
   ]
  },
  {
   "cell_type": "code",
   "execution_count": 42,
   "metadata": {},
   "outputs": [],
   "source": [
    "data_all = data_sig_wo_psi_pipi_window[data_sig_wo_psi_pipi_window.BU_pvdistsignif2_Cjp_Martino > 5]\n",
    "data_all = data_all[(data_all.X_mass_Cjp > 3.64) & (data_all.X_mass_Cjp < 3.74)]\n",
    "data_all = data_all.X_mass_Cjp.values"
   ]
  },
  {
   "cell_type": "code",
   "execution_count": 43,
   "metadata": {},
   "outputs": [
    {
     "name": "stdout",
     "output_type": "stream",
     "text": [
      "normalized_poly: ['x', 'c_0', 'c_1', 'c_2', 'NBkg']\n",
      "gauss1:          ['x', 'mu', 'sigma1', 'N']\n",
      "pdf:             ['x', 'c_0', 'c_1', 'c_2', 'NBkg', 'mu', 'sigma1', 'N']\n"
     ]
    }
   ],
   "source": [
    "# Using a polynomial to fit a distribution is problematic, because the\n",
    "# polynomial can assume negative values, which results in NaN (not a number)\n",
    "# values in the likelihood function.\n",
    "# To avoid this problem we restrict the fit to the range (0, 5) where\n",
    "# the polynomial is clearly positive.\n",
    "fit_range = (3.64, 3.74)\n",
    "normalized_poly = probfit.Normalized(probfit.Polynomial(2), fit_range)\n",
    "normalized_poly = probfit.Extended(normalized_poly, extname='NBkg')\n",
    "\n",
    "gauss1 = probfit.Extended(probfit.rename(probfit.gaussian, ['x', 'mu', 'sigma1']))\n",
    "gauss2 = probfit.Extended(probfit.rename(probfit.gaussian, ['x', 'mu', 'sigma2'])) #, extname='N2'\n",
    "sum_gauss = probfit.AddPdfNorm(gauss1, gauss2)\n",
    "# Define an extended PDF consisting of three components\n",
    "pdf = probfit.AddPdf(normalized_poly, gauss1)\n",
    "\n",
    "print('normalized_poly: {}'.format(probfit.describe(normalized_poly)))\n",
    "print('gauss1:          {}'.format(probfit.describe(gauss1)))\n",
    "# print('gauss2:          {}'.format(probfit.describe(gauss2)))\n",
    "print('pdf:             {}'.format(probfit.describe(pdf)))"
   ]
  },
  {
   "cell_type": "code",
   "execution_count": 44,
   "metadata": {},
   "outputs": [
    {
     "data": {
      "image/png": "[encoded data removed]",
      "text/plain": [
       "<Figure size 432x288 with 1 Axes>"
      ]
     },
     "metadata": {
      "needs_background": "light"
     },
     "output_type": "display_data"
    }
   ],
   "source": [
    "unbinned_likelihood = probfit.UnbinnedLH(pdf, data_all, extended=True, extended_bound=fit_range)\n",
    "pars = dict(mu=3.685, error_mu=0.05, sigma1=0.005, N=1100,\n",
    "#                                    sigma2=0.005, f_0=0.5,\n",
    "            c_0=4, c_1=4, c_2=1,  NBkg=1000)\n",
    "minuit = iminuit.Minuit(unbinned_likelihood, pedantic=False, print_level=0, **pars)\n",
    "# You can see that the model already roughly matches the data\n",
    "unbinned_likelihood.draw(minuit, parts=True);"
   ]
  },
  {
   "cell_type": "code",
   "execution_count": 45,
   "metadata": {},
   "outputs": [
    {
     "name": "stderr",
     "output_type": "stream",
     "text": [
      "/home/yaourt/anaconda3/lib/python3.6/site-packages/ipykernel_launcher.py:1: SmallIntegralWarning: (3.684153631529378, -29.61711837860961, 4.0, 1.0)\n",
      "  \"\"\"Entry point for launching an IPython kernel.\n"
     ]
    },
    {
     "data": {
      "text/plain": [
       "({'fval': -11893.17479162517,\n",
       "  'edm': 2.0119400451728643e-05,\n",
       "  'nfcn': 241,\n",
       "  'up': 0.5,\n",
       "  'is_valid': True,\n",
       "  'has_valid_parameters': True,\n",
       "  'has_accurate_covar': True,\n",
       "  'has_posdef_covar': True,\n",
       "  'has_made_posdef_covar': False,\n",
       "  'hesse_failed': False,\n",
       "  'has_covariance': True,\n",
       "  'is_above_max_edm': False,\n",
       "  'has_reached_call_limit': False},\n",
       " [{'number': 0,\n",
       "   'name': 'c_0',\n",
       "   'value': -17.82856780619155,\n",
       "   'error': 11.111467894879063,\n",
       "   'is_const': False,\n",
       "   'is_fixed': False,\n",
       "   'has_limits': False,\n",
       "   'has_lower_limit': False,\n",
       "   'has_upper_limit': False,\n",
       "   'lower_limit': None,\n",
       "   'upper_limit': None},\n",
       "  {'number': 1,\n",
       "   'name': 'c_1',\n",
       "   'value': 3.0134458383044094,\n",
       "   'error': 3.6341083078373284,\n",
       "   'is_const': False,\n",
       "   'is_fixed': False,\n",
       "   'has_limits': False,\n",
       "   'has_lower_limit': False,\n",
       "   'has_upper_limit': False,\n",
       "   'lower_limit': None,\n",
       "   'upper_limit': None},\n",
       "  {'number': 2,\n",
       "   'name': 'c_2',\n",
       "   'value': 1.0579889189078202,\n",
       "   'error': 1.2335859355305134,\n",
       "   'is_const': False,\n",
       "   'is_fixed': False,\n",
       "   'has_limits': False,\n",
       "   'has_lower_limit': False,\n",
       "   'has_upper_limit': False,\n",
       "   'lower_limit': None,\n",
       "   'upper_limit': None},\n",
       "  {'number': 3,\n",
       "   'name': 'NBkg',\n",
       "   'value': 583.125263432627,\n",
       "   'error': 28.113390412920953,\n",
       "   'is_const': False,\n",
       "   'is_fixed': False,\n",
       "   'has_limits': False,\n",
       "   'has_lower_limit': False,\n",
       "   'has_upper_limit': False,\n",
       "   'lower_limit': None,\n",
       "   'upper_limit': None},\n",
       "  {'number': 4,\n",
       "   'name': 'mu',\n",
       "   'value': 3.6857138497945057,\n",
       "   'error': 0.00018645293473384,\n",
       "   'is_const': False,\n",
       "   'is_fixed': False,\n",
       "   'has_limits': False,\n",
       "   'has_lower_limit': False,\n",
       "   'has_upper_limit': False,\n",
       "   'lower_limit': None,\n",
       "   'upper_limit': None},\n",
       "  {'number': 5,\n",
       "   'name': 'sigma1',\n",
       "   'value': 0.004172000883213618,\n",
       "   'error': 0.0001717104059375962,\n",
       "   'is_const': False,\n",
       "   'is_fixed': False,\n",
       "   'has_limits': False,\n",
       "   'has_lower_limit': False,\n",
       "   'has_upper_limit': False,\n",
       "   'lower_limit': None,\n",
       "   'upper_limit': None},\n",
       "  {'number': 6,\n",
       "   'name': 'N',\n",
       "   'value': 732.8365898888652,\n",
       "   'error': 30.661595519246486,\n",
       "   'is_const': False,\n",
       "   'is_fixed': False,\n",
       "   'has_limits': False,\n",
       "   'has_lower_limit': False,\n",
       "   'has_upper_limit': False,\n",
       "   'lower_limit': None,\n",
       "   'upper_limit': None}])"
      ]
     },
     "execution_count": 45,
     "metadata": {},
     "output_type": "execute_result"
    }
   ],
   "source": [
    "minuit.migrad()"
   ]
  },
  {
   "cell_type": "code",
   "execution_count": 46,
   "metadata": {},
   "outputs": [
    {
     "data": {
      "image/png": "[encoded data removed]",
      "text/plain": [
       "<Figure size 432x288 with 1 Axes>"
      ]
     },
     "metadata": {
      "needs_background": "light"
     },
     "output_type": "display_data"
    },
    {
     "data": {
      "text/html": [
       "<hr>"
      ]
     },
     "metadata": {},
     "output_type": "display_data"
    },
    {
     "data": {
      "text/html": [
       "<table>\n",
       "    <tr>\n",
       "        <td title=\"Minimum value of function\">FCN = -11893.17479162517</td>\n",
       "        <td title=\"Total number of call to FCN so far\">TOTAL NCALL = 241</td>\n",
       "        <td title=\"Number of call in last migrad\">NCALLS = 241</td>\n",
       "    </tr>\n",
       "    <tr>\n",
       "        <td title=\"Estimated distance to minimum\">EDM = 2.0119400451728643e-05</td>\n",
       "        <td title=\"Maximum EDM definition of convergence\">GOAL EDM = 5e-06</td>\n",
       "        <td title=\"Error def. Amount of increase in FCN to be defined as 1 standard deviation\">\n",
       "        UP = 0.5</td>\n",
       "    </tr>\n",
       "</table>\n",
       "<table>\n",
       "    <tr>\n",
       "        <td align=\"center\" title=\"Validity of the migrad call\">Valid</td>\n",
       "        <td align=\"center\" title=\"Validity of parameters\">Valid Param</td>\n",
       "        <td align=\"center\" title=\"Is Covariance matrix accurate?\">Accurate Covar</td>\n",
       "        <td align=\"center\" title=\"Positive definiteness of covariance matrix\">PosDef</td>\n",
       "        <td align=\"center\" title=\"Was covariance matrix made posdef by adding diagonal element\">Made PosDef</td>\n",
       "    </tr>\n",
       "    <tr>\n",
       "        <td align=\"center\" style=\"background-color:#92CCA6\">True</td>\n",
       "        <td align=\"center\" style=\"background-color:#92CCA6\">True</td>\n",
       "        <td align=\"center\" style=\"background-color:#92CCA6\">True</td>\n",
       "        <td align=\"center\" style=\"background-color:#92CCA6\">True</td>\n",
       "        <td align=\"center\" style=\"background-color:#92CCA6\">False</td>\n",
       "    </tr>\n",
       "    <tr>\n",
       "        <td align=\"center\" title=\"Was last hesse call fail?\">Hesse Fail</td>\n",
       "        <td align=\"center\" title=\"Validity of covariance\">HasCov</td>\n",
       "        <td align=\"center\" title=\"Is EDM above goal EDM?\">Above EDM</td>\n",
       "        <td align=\"center\"></td>\n",
       "        <td align=\"center\" title=\"Did last migrad call reach max call limit?\">Reach calllim</td>\n",
       "    </tr>\n",
       "    <tr>\n",
       "        <td align=\"center\" style=\"background-color:#92CCA6\">False</td>\n",
       "        <td align=\"center\" style=\"background-color:#92CCA6\">True</td>\n",
       "        <td align=\"center\" style=\"background-color:#92CCA6\">False</td>\n",
       "        <td align=\"center\"></td>\n",
       "        <td align=\"center\" style=\"background-color:#92CCA6\">False</td>\n",
       "    </tr>\n",
       "</table>"
      ]
     },
     "metadata": {},
     "output_type": "display_data"
    },
    {
     "data": {
      "text/html": [
       "<table>\n",
       "    <tr>\n",
       "        <td><a href=\"#\" onclick=\"$('#ZwEdECSIOE').toggle()\">+</a></td>\n",
       "        <td title=\"Variable name\">Name</td>\n",
       "        <td title=\"Value of parameter\">Value</td>\n",
       "        <td title=\"Hesse error\">Hesse Error</td>\n",
       "        <td title=\"Minos lower error\">Minos Error-</td>\n",
       "        <td title=\"Minos upper error\">Minos Error+</td>\n",
       "        <td title=\"Lower limit of the parameter\">Limit-</td>\n",
       "        <td title=\"Upper limit of the parameter\">Limit+</td>\n",
       "        <td title=\"Is the parameter fixed in the fit\">Fixed?</td>\n",
       "    </tr>\n",
       "    <tr>\n",
       "        <td>0</td>\n",
       "        <td>c_0</td>\n",
       "        <td>-17.8286</td>\n",
       "        <td>11.1115</td>\n",
       "        <td></td>\n",
       "        <td></td>\n",
       "        <td></td>\n",
       "        <td></td>\n",
       "        <td>No</td>\n",
       "    </tr>\n",
       "    <tr>\n",
       "        <td>1</td>\n",
       "        <td>c_1</td>\n",
       "        <td>3.01345</td>\n",
       "        <td>3.63411</td>\n",
       "        <td></td>\n",
       "        <td></td>\n",
       "        <td></td>\n",
       "        <td></td>\n",
       "        <td>No</td>\n",
       "    </tr>\n",
       "    <tr>\n",
       "        <td>2</td>\n",
       "        <td>c_2</td>\n",
       "        <td>1.05799</td>\n",
       "        <td>1.23359</td>\n",
       "        <td></td>\n",
       "        <td></td>\n",
       "        <td></td>\n",
       "        <td></td>\n",
       "        <td>No</td>\n",
       "    </tr>\n",
       "    <tr>\n",
       "        <td>3</td>\n",
       "        <td>NBkg</td>\n",
       "        <td>583.125</td>\n",
       "        <td>28.1134</td>\n",
       "        <td></td>\n",
       "        <td></td>\n",
       "        <td></td>\n",
       "        <td></td>\n",
       "        <td>No</td>\n",
       "    </tr>\n",
       "    <tr>\n",
       "        <td>4</td>\n",
       "        <td>mu</td>\n",
       "        <td>3.68571</td>\n",
       "        <td>0.000186453</td>\n",
       "        <td></td>\n",
       "        <td></td>\n",
       "        <td></td>\n",
       "        <td></td>\n",
       "        <td>No</td>\n",
       "    </tr>\n",
       "    <tr>\n",
       "        <td>5</td>\n",
       "        <td>sigma1</td>\n",
       "        <td>0.004172</td>\n",
       "        <td>0.00017171</td>\n",
       "        <td></td>\n",
       "        <td></td>\n",
       "        <td></td>\n",
       "        <td></td>\n",
       "        <td>No</td>\n",
       "    </tr>\n",
       "    <tr>\n",
       "        <td>6</td>\n",
       "        <td>N</td>\n",
       "        <td>732.837</td>\n",
       "        <td>30.6616</td>\n",
       "        <td></td>\n",
       "        <td></td>\n",
       "        <td></td>\n",
       "        <td></td>\n",
       "        <td>No</td>\n",
       "    </tr>\n",
       "</table>\n",
       "<pre id=\"ZwEdECSIOE\" style=\"display:none;\">\n",
       "<textarea rows=\"20\" cols=\"50\" onclick=\"this.select()\" readonly>\n",
       "\\begin{tabular}{|c|r|r|r|r|r|r|r|c|}\n",
       "\\hline\n",
       " & Name & Value & Hesse Error & Minos Error- & Minos Error+ & Limit- & Limit+ & Fixed?\\\\\n",
       "\\hline\n",
       "0 & $c_{0}$ & -17.8286 & 11.1115 &  &  &  &  & No\\\\\n",
       "\\hline\n",
       "1 & $c_{1}$ & 3.01345 & 3.63411 &  &  &  &  & No\\\\\n",
       "\\hline\n",
       "2 & $c_{2}$ & 1.05799 & 1.23359 &  &  &  &  & No\\\\\n",
       "\\hline\n",
       "3 & NBkg & 583.125 & 28.1134 &  &  &  &  & No\\\\\n",
       "\\hline\n",
       "4 & $\\mu$ & 3.68571 & 0.000186453 &  &  &  &  & No\\\\\n",
       "\\hline\n",
       "5 & sigma1 & 0.004172 & 0.00017171 &  &  &  &  & No\\\\\n",
       "\\hline\n",
       "6 & N & 732.837 & 30.6616 &  &  &  &  & No\\\\\n",
       "\\hline\n",
       "\\end{tabular}\n",
       "</textarea>\n",
       "</pre>"
      ]
     },
     "metadata": {},
     "output_type": "display_data"
    },
    {
     "data": {
      "text/html": [
       "<hr>"
      ]
     },
     "metadata": {},
     "output_type": "display_data"
    },
    {
     "data": {
      "text/html": [
       "<table>\n",
       "    <tr>\n",
       "        <td><a onclick=\"$('#viQqWIYDsm').toggle()\" href=\"#\">+</a></td> <td>c_0</td> <td>c_1</td> <td>c_2</td> <td>NBkg</td> <td>mu</td> <td>sigma1</td> <td>N</td>\n",
       "    </tr>\n",
       "    <tr>\n",
       "        <td>c_0</td> <td style=\"background-color:rgb(255,117,117)\">1.00</td> <td style=\"background-color:rgb(204,193,155)\">-0.44</td> <td style=\"background-color:rgb(196,206,162)\">-0.35</td> <td style=\"background-color:rgb(164,252,185)\">0.01</td> <td style=\"background-color:rgb(165,251,185)\">0.02</td> <td style=\"background-color:rgb(164,252,185)\">-0.01</td> <td style=\"background-color:rgb(164,252,185)\">-0.01</td>\n",
       "    </tr>\n",
       "    <tr>\n",
       "        <td>c_1</td> <td style=\"background-color:rgb(204,193,155)\">-0.44</td> <td style=\"background-color:rgb(255,117,117)\">1.00</td> <td style=\"background-color:rgb(191,213,165)\">-0.30</td> <td style=\"background-color:rgb(164,252,185)\">0.01</td> <td style=\"background-color:rgb(165,251,185)\">0.02</td> <td style=\"background-color:rgb(164,252,185)\">-0.01</td> <td style=\"background-color:rgb(164,252,185)\">-0.01</td>\n",
       "    </tr>\n",
       "    <tr>\n",
       "        <td>c_2</td> <td style=\"background-color:rgb(196,206,162)\">-0.35</td> <td style=\"background-color:rgb(191,213,165)\">-0.30</td> <td style=\"background-color:rgb(255,117,117)\">1.00</td> <td style=\"background-color:rgb(164,252,185)\">0.01</td> <td style=\"background-color:rgb(165,251,185)\">0.02</td> <td style=\"background-color:rgb(164,252,185)\">-0.01</td> <td style=\"background-color:rgb(164,252,185)\">-0.01</td>\n",
       "    </tr>\n",
       "    <tr>\n",
       "        <td>NBkg</td> <td style=\"background-color:rgb(164,252,185)\">0.01</td> <td style=\"background-color:rgb(164,252,185)\">0.01</td> <td style=\"background-color:rgb(164,252,185)\">0.01</td> <td style=\"background-color:rgb(255,117,117)\">1.00</td> <td style=\"background-color:rgb(164,253,185)\">-0.01</td> <td style=\"background-color:rgb(188,217,167)\">-0.27</td> <td style=\"background-color:rgb(185,221,169)\">-0.24</td>\n",
       "    </tr>\n",
       "    <tr>\n",
       "        <td>mu</td> <td style=\"background-color:rgb(165,251,185)\">0.02</td> <td style=\"background-color:rgb(165,251,185)\">0.02</td> <td style=\"background-color:rgb(165,251,185)\">0.02</td> <td style=\"background-color:rgb(164,253,185)\">-0.01</td> <td style=\"background-color:rgb(255,117,117)\">1.00</td> <td style=\"background-color:rgb(166,249,184)\">0.03</td> <td style=\"background-color:rgb(164,253,185)\">0.01</td>\n",
       "    </tr>\n",
       "    <tr>\n",
       "        <td>sigma1</td> <td style=\"background-color:rgb(164,252,185)\">-0.01</td> <td style=\"background-color:rgb(164,252,185)\">-0.01</td> <td style=\"background-color:rgb(164,252,185)\">-0.01</td> <td style=\"background-color:rgb(188,217,167)\">-0.27</td> <td style=\"background-color:rgb(166,249,184)\">0.03</td> <td style=\"background-color:rgb(255,117,117)\">1.00</td> <td style=\"background-color:rgb(186,220,169)\">0.25</td>\n",
       "    </tr>\n",
       "    <tr>\n",
       "        <td>N</td> <td style=\"background-color:rgb(164,252,185)\">-0.01</td> <td style=\"background-color:rgb(164,252,185)\">-0.01</td> <td style=\"background-color:rgb(164,252,185)\">-0.01</td> <td style=\"background-color:rgb(185,221,169)\">-0.24</td> <td style=\"background-color:rgb(164,253,185)\">0.01</td> <td style=\"background-color:rgb(186,220,169)\">0.25</td> <td style=\"background-color:rgb(255,117,117)\">1.00</td>\n",
       "    </tr>\n",
       "</table>\n",
       "<pre id=\"viQqWIYDsm\" style=\"display:none;\">\n",
       "<textarea rows=\"23\" cols=\"50\" onclick=\"this.select()\" readonly>\n",
       "%\\usepackage[table]{xcolor} % include this for color\n",
       "%\\usepackage{rotating} % include this for rotate header\n",
       "%\\documentclass[xcolor=table]{beamer} % for beamer\n",
       "\\begin{tabular}{|c|c|c|c|c|c|c|c|}\n",
       "\\hline\n",
       "\\rotatebox{90}{} & \\rotatebox{90}{$c_{0}$} & \\rotatebox{90}{$c_{1}$} & \\rotatebox{90}{$c_{2}$} & \\rotatebox{90}{NBkg} & \\rotatebox{90}{$\\mu$} & \\rotatebox{90}{sigma1} & \\rotatebox{90}{N}\\\\\n",
       "\\hline\n",
       "$c_{0}$ & \\cellcolor[RGB]{255,117,117} 1.00 & \\cellcolor[RGB]{204,193,155} -0.44 & \\cellcolor[RGB]{196,206,162} -0.35 & \\cellcolor[RGB]{164,252,185} 0.01 & \\cellcolor[RGB]{165,251,185} 0.02 & \\cellcolor[RGB]{164,252,185} -0.01 & \\cellcolor[RGB]{164,252,185} -0.01\\\\\n",
       "\\hline\n",
       "$c_{1}$ & \\cellcolor[RGB]{204,193,155} -0.44 & \\cellcolor[RGB]{255,117,117} 1.00 & \\cellcolor[RGB]{191,213,165} -0.30 & \\cellcolor[RGB]{164,252,185} 0.01 & \\cellcolor[RGB]{165,251,185} 0.02 & \\cellcolor[RGB]{164,252,185} -0.01 & \\cellcolor[RGB]{164,252,185} -0.01\\\\\n",
       "\\hline\n",
       "$c_{2}$ & \\cellcolor[RGB]{196,206,162} -0.35 & \\cellcolor[RGB]{191,213,165} -0.30 & \\cellcolor[RGB]{255,117,117} 1.00 & \\cellcolor[RGB]{164,252,185} 0.01 & \\cellcolor[RGB]{165,251,185} 0.02 & \\cellcolor[RGB]{164,252,185} -0.01 & \\cellcolor[RGB]{164,252,185} -0.01\\\\\n",
       "\\hline\n",
       "NBkg & \\cellcolor[RGB]{164,252,185} 0.01 & \\cellcolor[RGB]{164,252,185} 0.01 & \\cellcolor[RGB]{164,252,185} 0.01 & \\cellcolor[RGB]{255,117,117} 1.00 & \\cellcolor[RGB]{164,253,185} -0.01 & \\cellcolor[RGB]{188,217,167} -0.27 & \\cellcolor[RGB]{185,221,169} -0.24\\\\\n",
       "\\hline\n",
       "$\\mu$ & \\cellcolor[RGB]{165,251,185} 0.02 & \\cellcolor[RGB]{165,251,185} 0.02 & \\cellcolor[RGB]{165,251,185} 0.02 & \\cellcolor[RGB]{164,253,185} -0.01 & \\cellcolor[RGB]{255,117,117} 1.00 & \\cellcolor[RGB]{166,249,184} 0.03 & \\cellcolor[RGB]{164,253,185} 0.01\\\\\n",
       "\\hline\n",
       "sigma1 & \\cellcolor[RGB]{164,252,185} -0.01 & \\cellcolor[RGB]{164,252,185} -0.01 & \\cellcolor[RGB]{164,252,185} -0.01 & \\cellcolor[RGB]{188,217,167} -0.27 & \\cellcolor[RGB]{166,249,184} 0.03 & \\cellcolor[RGB]{255,117,117} 1.00 & \\cellcolor[RGB]{186,220,169} 0.25\\\\\n",
       "\\hline\n",
       "N & \\cellcolor[RGB]{164,252,185} -0.01 & \\cellcolor[RGB]{164,252,185} -0.01 & \\cellcolor[RGB]{164,252,185} -0.01 & \\cellcolor[RGB]{185,221,169} -0.24 & \\cellcolor[RGB]{164,253,185} 0.01 & \\cellcolor[RGB]{186,220,169} 0.25 & \\cellcolor[RGB]{255,117,117} 1.00\\\\\n",
       "\\hline\n",
       "\\end{tabular}\n",
       "</textarea>\n",
       "</pre>"
      ]
     },
     "metadata": {},
     "output_type": "display_data"
    }
   ],
   "source": [
    "unbinned_likelihood.show(minuit, parts=False);\n",
    "minuit.print_fmin()\n",
    "minuit.print_matrix()"
   ]
  },
  {
   "cell_type": "markdown",
   "metadata": {},
   "source": [
    "### **Multiple candidates**"
   ]
  },
  {
   "cell_type": "code",
   "execution_count": 103,
   "metadata": {},
   "outputs": [
    {
     "name": "stdout",
     "output_type": "stream",
     "text": [
      "num candidates = 1125, num events = 716.0\n"
     ]
    }
   ],
   "source": [
    "print(f'num candidates = {data_sig_window.shape[0]}, num events = {sum(data_sig_window.nB_id)}')"
   ]
  },
  {
   "cell_type": "code",
   "execution_count": 99,
   "metadata": {},
   "outputs": [
    {
     "data": {
      "text/plain": [
       "(132069.0, -137909.0)"
      ]
     },
     "execution_count": 99,
     "metadata": {},
     "output_type": "execute_result"
    }
   ],
   "source": [
    "sum(data.SAMEEVENT), sum(data.nB_id - 1)"
   ]
  },
  {
   "cell_type": "code",
   "execution_count": 96,
   "metadata": {},
   "outputs": [
    {
     "data": {
      "text/plain": [
       "0    1.0\n",
       "1    0.0\n",
       "2    0.0\n",
       "3    1.0\n",
       "4    1.0\n",
       "5    1.0\n",
       "6    1.0\n",
       "7    1.0\n",
       "8    1.0\n",
       "9    1.0\n",
       "Name: SAMEEVENT, dtype: float64"
      ]
     },
     "execution_count": 96,
     "metadata": {},
     "output_type": "execute_result"
    }
   ],
   "source": [
    "data.SAMEEVENT[:10]"
   ]
  },
  {
   "cell_type": "code",
   "execution_count": 97,
   "metadata": {},
   "outputs": [
    {
     "data": {
      "text/plain": [
       "0    1.0\n",
       "1    1.0\n",
       "2    1.0\n",
       "3    0.0\n",
       "4    0.0\n",
       "5    0.0\n",
       "6    0.0\n",
       "7    0.0\n",
       "8    0.0\n",
       "9    0.0\n",
       "Name: nB_id, dtype: float64"
      ]
     },
     "execution_count": 97,
     "metadata": {},
     "output_type": "execute_result"
    }
   ],
   "source": [
    "data.nB_id[:10]"
   ]
  },
  {
   "cell_type": "code",
   "execution_count": 98,
   "metadata": {},
   "outputs": [
    {
     "data": {
      "text/plain": [
       "(204391, 44)"
      ]
     },
     "execution_count": 98,
     "metadata": {},
     "output_type": "execute_result"
    }
   ],
   "source": [
    "data.shape"
   ]
  },
  {
   "cell_type": "markdown",
   "metadata": {},
   "source": [
    "#### **from MySel output on data**"
   ]
  },
  {
   "cell_type": "code",
   "execution_count": 19,
   "metadata": {},
   "outputs": [
    {
     "name": "stdout",
     "output_type": "stream",
     "text": [
      "1.069259962049336\n",
      "1.068384539147671\n"
     ]
    }
   ],
   "source": [
    "# psi window w/o DS cuts\n",
    "print(1127/1054)\n",
    "\n",
    "# psi window w DS cuts\n",
    "print(1078/1009)"
   ]
  },
  {
   "cell_type": "code",
   "execution_count": 106,
   "metadata": {},
   "outputs": [
    {
     "data": {
      "text/plain": [
       "1.1057884231536925"
      ]
     },
     "execution_count": 106,
     "metadata": {},
     "output_type": "execute_result"
    }
   ],
   "source": [
    "# X window w/ DS cuts\n",
    "554 / 501"
   ]
  },
  {
   "cell_type": "code",
   "execution_count": 66,
   "metadata": {},
   "outputs": [
    {
     "data": {
      "text/plain": [
       "1.0480225988700564"
      ]
     },
     "execution_count": 66,
     "metadata": {},
     "output_type": "execute_result"
    }
   ],
   "source": [
    "# psi, Bs sidebands + all windows w/ DS cuts\n",
    "# if (ch.B_mass[ibs] > 5.27 and ch.B_mass[ibs] < 5.47) or (ch.B_mass[ibs] > 5.5) or (ch.B_mass[ibs] < 5.24)\n",
    "\n",
    "371 / 354"
   ]
  },
  {
   "cell_type": "code",
   "execution_count": 67,
   "metadata": {},
   "outputs": [
    {
     "data": {
      "text/plain": [
       "1.0872210953346857"
      ]
     },
     "execution_count": 67,
     "metadata": {},
     "output_type": "execute_result"
    }
   ],
   "source": [
    "# X, Bs sidebands + all windows w/ DS cuts\n",
    "# if (ch.B_mass[ibs] > 5.27 and ch.B_mass[ibs] < 5.47) or (ch.B_mass[ibs] > 5.5) or (ch.B_mass[ibs] < 5.24)\n",
    "\n",
    "536 / 493"
   ]
  },
  {
   "cell_type": "markdown",
   "metadata": {},
   "source": [
    "#### **from MySel output on MC**"
   ]
  },
  {
   "cell_type": "code",
   "execution_count": 70,
   "metadata": {},
   "outputs": [
    {
     "data": {
      "text/plain": [
       "1.0300528286044153"
      ]
     },
     "execution_count": 70,
     "metadata": {},
     "output_type": "execute_result"
    }
   ],
   "source": [
    "# psi w/o matching\n",
    "29442 / 28583"
   ]
  },
  {
   "cell_type": "code",
   "execution_count": 76,
   "metadata": {},
   "outputs": [
    {
     "data": {
      "text/plain": [
       "1.0330326578546263"
      ]
     },
     "execution_count": 76,
     "metadata": {},
     "output_type": "execute_result"
    }
   ],
   "source": [
    "# X w/o matching\n",
    "41343 / 40021"
   ]
  },
  {
   "cell_type": "code",
   "execution_count": 77,
   "metadata": {},
   "outputs": [
    {
     "data": {
      "text/plain": [
       "1.011061946902655"
      ]
     },
     "execution_count": 77,
     "metadata": {},
     "output_type": "execute_result"
    }
   ],
   "source": [
    "# X w/ matching\n",
    "41343 / 40021"
   ]
  },
  {
   "cell_type": "code",
   "execution_count": null,
   "metadata": {},
   "outputs": [],
   "source": []
  },
  {
   "cell_type": "code",
   "execution_count": 6,
   "metadata": {},
   "outputs": [],
   "source": [
    "data.to_pickle('data_B0_e3de87_nB_4000.pkl')\n",
    "MC.to_pickle('MC_pair_dR_psi_renamed.pkl')"
   ]
  },
  {
   "cell_type": "markdown",
   "metadata": {},
   "source": [
    "#### **Matching studies**"
   ]
  },
  {
   "cell_type": "code",
   "execution_count": 45,
   "metadata": {},
   "outputs": [],
   "source": [
    "variables = ( [\n",
    "'dR_mup','dR_mum', 'dR_pip', 'dR_pim', 'dR_Kp', 'dR_Km',\n",
    "'PIPI_mass_Cjp', 'PHI_mass_Cjp', 'BU_mass_Cjp', 'BU_pvdistsignif2_Cjp', 'X_mass_Cjp'\n",
    "] ) \n",
    "\n",
    "variables_prev = ( [\n",
    "'dR_mu1','dR_mu2', 'dR_pi1', 'dR_pi2', 'dR_K1', 'dR_K2',\n",
    "'dR_mu1_vv','dR_mu2_vv', 'dR_pi1_vv', 'dR_pi2_vv', 'dR_K1_vv', 'dR_K2_vv',\n",
    "    \n",
    "'PIPI_mass_Cjp', 'PHI_mass_Cjp', 'BU_mass_Cjp', 'BU_pvdistsignif2_Cjp', 'X_mass_Cjp'\n",
    "] ) \n",
    "\n",
    "data = read_root('/home/yaourt/Study/Bs_resonances/psi_smatch_v2_fc33ffd.root', columns = variables)\n",
    "# psi_smatch_v2_fc33ffd\n",
    "# X_smatch_v2_dede235\n",
    "data = data.dropna()\n",
    "\n",
    "data_prev = read_root('/home/yaourt/Study/Bs_resonances/BsToPsiPhi_Smatch_v1_pair_dR_phi_genmass.root', columns = variables_prev)\n",
    "# BsToPsiPhi_Smatch_v1_pair_dR_phi_genmass\n",
    "# BsToXPhi_Smatch_v1_pair_dR_phi_genmass\n",
    "data_prev = data_prev.dropna()"
   ]
  },
  {
   "cell_type": "code",
   "execution_count": 35,
   "metadata": {},
   "outputs": [
    {
     "data": {
      "text/plain": [
       "(127224, 11)"
      ]
     },
     "execution_count": 35,
     "metadata": {},
     "output_type": "execute_result"
    }
   ],
   "source": [
    "data.shape"
   ]
  },
  {
   "cell_type": "code",
   "execution_count": 38,
   "metadata": {},
   "outputs": [
    {
     "data": {
      "text/plain": [
       "(45391, 11)"
      ]
     },
     "execution_count": 38,
     "metadata": {},
     "output_type": "execute_result"
    }
   ],
   "source": [
    "data[(data.BU_mass_Cjp > 5.3669 - 0.035) & (data.BU_mass_Cjp < 5.3669 + 0.035) & (data.PHI_mass_Cjp > 1.0195 - 0.016) & (data.PHI_mass_Cjp < 1.0195 + 0.016) & \n",
    "    (data.X_mass_Cjp > 3.872 - 0.025) & (data.X_mass_Cjp < 3.872 + 0.025)].shape"
   ]
  },
  {
   "cell_type": "code",
   "execution_count": 46,
   "metadata": {},
   "outputs": [],
   "source": [
    "k1  = pd.concat([data_prev.dR_K1,  data_prev.dR_K1_vv],  axis=1).min(axis=1) \n",
    "k2  = pd.concat([data_prev.dR_K2,  data_prev.dR_K2_vv],  axis=1).min(axis=1) \n",
    "pi1 = pd.concat([data_prev.dR_pi1, data_prev.dR_pi1_vv], axis=1).min(axis=1) \n",
    "pi2 = pd.concat([data_prev.dR_pi2, data_prev.dR_pi2_vv], axis=1).min(axis=1) \n",
    "mu1 = pd.concat([data_prev.dR_mu1, data_prev.dR_mu1_vv], axis=1).min(axis=1) \n",
    "mu2 = pd.concat([data_prev.dR_mu2, data_prev.dR_mu2_vv], axis=1).min(axis=1) "
   ]
  },
  {
   "cell_type": "code",
   "execution_count": 47,
   "metadata": {},
   "outputs": [],
   "source": [
    "cut = 0.05\n",
    "dR_mask = (data.dR_Km < cut) & (data.dR_Kp < cut) & (data.dR_pim < cut) & (data.dR_pip < cut) & (data.dR_mup < cut) & (data.dR_mum < cut)\n",
    "dR_mask_prev = ((k1 < cut) & (k2 < cut) & (pi1 < cut) & (pi2 < cut) & (mu1 < cut) & (mu2 < cut))"
   ]
  },
  {
   "cell_type": "code",
   "execution_count": 48,
   "metadata": {},
   "outputs": [],
   "source": [
    "\n",
    "\n",
    "X_mask   = (data.X_mass_Cjp > 3.686 - 0.025)   & (data.X_mass_Cjp < 3.686 + 0.025)  # 3.686 + 0.025 /// 3.872 - 0.025\n",
    "phi_mask = (data.PHI_mass_Cjp > 1.0195 - 0.016) & (data.PHI_mass_Cjp < 1.0195 + 0.016) \n",
    "B_mask   = (data.BU_mass_Cjp > 5.3669 - 0.035)  & (data.BU_mass_Cjp < 5.3669 + 0.035)\n",
    "mpipi_mask = (data.PIPI_mass_Cjp > 0.4) & (data.PIPI_mass_Cjp < 0.6)  # 0.4, 0.6 /// 0.65, 0.78\n",
    "\n",
    "X_mask_prev   = (data_prev.X_mass_Cjp > 3.686 - 0.025)   & (data_prev.X_mass_Cjp < 3.686 + 0.025)\n",
    "phi_mask_prev = (data_prev.PHI_mass_Cjp > 1.0195 - 0.016) & (data_prev.PHI_mass_Cjp < 1.0195 + 0.016) \n",
    "B_mask_prev   = (data_prev.BU_mass_Cjp > 5.3669 - 0.035)  & (data_prev.BU_mass_Cjp < 5.3669 + 0.035)\n",
    "mpipi_mask_prev = (data_prev.PIPI_mass_Cjp > 0.4) & (data_prev.PIPI_mass_Cjp < 0.6)\n",
    "# current_BsDS_mask  = data.BU_pvdistsignif2_Cjp > 5\n",
    "# current_jpsiDS_mask = data.JPSI_pvdistsignif2_Cmumu > 3\n",
    "\n",
    "# data_sig_window = data[X_mask & phi_mask & B_mask]\n",
    "# data_sig_pipi_window = data[dR_mask & X_mask & phi_mask & B_mask & mpipi_mask]\n",
    "\n",
    "# data_prev_sig_window = data_prev[X_mask_prev & phi_mask_prev & B_mask_prev]\n",
    "# data_prev_sig_pipi_window = data_prev[dR_mask_prev & X_mask_prev & phi_mask_prev & B_mask_prev & mpipi_mask_prev]\n",
    "\n",
    "# data_sig_wo_psi_window = data[phi_mask & B_mask]\n",
    "# data_sig_wo_psi_pipi_window = data[phi_mask & B_mask & mpipi_mask]\n",
    "\n",
    "# data_sig_current_DS = data[X_mask & phi_mask & B_mask & mpipi_mask & current_BsDS_mask & current_jpsiDS_mask]"
   ]
  },
  {
   "cell_type": "code",
   "execution_count": 49,
   "metadata": {},
   "outputs": [
    {
     "data": {
      "text/plain": [
       "((82229, 11), (230091, 11))"
      ]
     },
     "execution_count": 49,
     "metadata": {},
     "output_type": "execute_result"
    }
   ],
   "source": [
    "data[dR_mask & X_mask & phi_mask & B_mask & mpipi_mask].shape, data.shape"
   ]
  },
  {
   "cell_type": "code",
   "execution_count": 30,
   "metadata": {},
   "outputs": [
    {
     "data": {
      "text/plain": [
       "((33778, 17), (127224, 17))"
      ]
     },
     "execution_count": 30,
     "metadata": {},
     "output_type": "execute_result"
    }
   ],
   "source": [
    "data_prev[dR_mask_prev & X_mask_prev & phi_mask_prev & B_mask_prev & mpipi_mask_prev].shape, data_prev.shape"
   ]
  },
  {
   "cell_type": "code",
   "execution_count": 12,
   "metadata": {},
   "outputs": [
    {
     "data": {
      "text/plain": [
       "<matplotlib.axes._subplots.AxesSubplot at 0x7f248e4445f8>"
      ]
     },
     "execution_count": 12,
     "metadata": {},
     "output_type": "execute_result"
    },
    {
     "data": {
      "image/png": "[encoded data removed]",
      "text/plain": [
       "<Figure size 432x288 with 1 Axes>"
      ]
     },
     "metadata": {
      "needs_background": "light"
     },
     "output_type": "display_data"
    }
   ],
   "source": [
    "sns.distplot(data[dR_mask & X_mask & phi_mask & B_mask & mpipi_mask].X_mass_Cjp)\n",
    "sns.distplot(data_prev[dR_mask_prev & X_mask_prev & phi_mask_prev & B_mask_prev & mpipi_mask_prev].X_mass_Cjp)"
   ]
  },
  {
   "cell_type": "code",
   "execution_count": null,
   "metadata": {},
   "outputs": [],
   "source": []
  }
 ],
 "metadata": {
  "kernelspec": {
   "display_name": "Python 3",
   "language": "python",
   "name": "python3"
  },
  "language_info": {
   "codemirror_mode": {
    "name": "ipython",
    "version": 3
   },
   "file_extension": ".py",
   "mimetype": "text/x-python",
   "name": "python",
   "nbconvert_exporter": "python",
   "pygments_lexer": "ipython3",
   "version": "3.6.8"
  }
 },
 "nbformat": 4,
 "nbformat_minor": 2
}
