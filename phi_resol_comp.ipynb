{
 "cells": [
  {
   "cell_type": "code",
   "execution_count": 1,
   "metadata": {},
   "outputs": [
    {
     "name": "stdout",
     "output_type": "stream",
     "text": [
      "Welcome to JupyROOT 6.14/04\n"
     ]
    }
   ],
   "source": [
    "from root_pandas import read_root\n",
    "import ROOT\n",
    "import seaborn as sns\n",
    "import pandas as pd\n",
    "import matplotlib.pyplot as plt\n",
    "\n",
    "# from lumin.plotting.data_viewing import plot_feat"
   ]
  },
  {
   "cell_type": "code",
   "execution_count": 4,
   "metadata": {},
   "outputs": [],
   "source": [
    "MC_psi = read_root('/home/yaourt/Study/Bs_resonances/psi_smatch_v2_fc33ffd.root')\n",
    "MC_X = read_root('/home/yaourt/Study/Bs_resonances/X_smatch_v2_dede235.root') #, columns = ['delta_phi_mass', 'dR_mup', 'dR_mum', 'dR_pip' , 'dR_pim', 'dR_Kp', 'dR_Km']"
   ]
  },
  {
   "cell_type": "code",
   "execution_count": 5,
   "metadata": {},
   "outputs": [],
   "source": [
    "MC_psi = MC_psi[(MC_psi.dR_mup < 0.05) & (MC_psi.dR_mum < 0.05) & (MC_psi.dR_pip < 0.05) & (MC_psi.dR_pim < 0.05) & (MC_psi.dR_Kp < 0.05) & (MC_psi.dR_Km < 0.05)]\n",
    "MC_X = MC_X[(MC_X.dR_mup < 0.05) & (MC_X.dR_mum < 0.05) & (MC_X.dR_pip < 0.05) & (MC_X.dR_pim < 0.05) & (MC_X.dR_Kp < 0.05) & (MC_X.dR_Km < 0.05)]"
   ]
  },
  {
   "cell_type": "code",
   "execution_count": 6,
   "metadata": {},
   "outputs": [
    {
     "data": {
      "text/plain": [
       "Index(['nB', 'dR_mup', 'dR_mum', 'dR_pip', 'dR_pim', 'dR_Kp', 'dR_Km',\n",
       "       'dR_mu1_vv', 'dR_mu2_vv', 'dR_pi1_vv', 'dR_pi2_vv', 'dR_K1_vv',\n",
       "       'dR_K2_vv', 'MoID_mu1', 'MoID_mu2', 'MoID_pi1', 'MoID_pi2', 'MoID_K1',\n",
       "       'MoID_K2', 'K1_pt', 'K1_ips', 'K2_pt', 'PI1_pt', 'PI2_pt', 'K1_eta',\n",
       "       'K2_eta', 'PI1_eta', 'PI2_eta', 'mu_1_pt', 'mu_2_pt', 'mu_1_eta',\n",
       "       'mu_2_eta', 'mu_max_pt', 'mu_min_pt', 'mu_max_eta', 'mu_min_eta',\n",
       "       'K_max_pt', 'K_min_pt', 'K_max_eta', 'K_min_eta', 'pi_max_pt',\n",
       "       'pi_min_pt', 'pi_max_eta', 'pi_min_eta', 'JP_pt', 'JP_eta', 'X_pt',\n",
       "       'X_eta', 'phi_pt', 'phi_eta', 'X_mass', 'X_mass_Cjp', 'PIPI_mass_Cjp',\n",
       "       'gen_phi_mass', 'delta_phi_mass', 'PHI_mass_Cjp', 'PHIPIPIP4_mass_Cjp',\n",
       "       'BU_mass_Cjp', 'BU_reflmass1_Cjp', 'BU_reflmass2_Cjp', 'BU_pt_Cjp',\n",
       "       'BU_pvdistsignif2_Cjp', 'BU_pvdistsignif3_Cjp', 'BU_eta_Cjp',\n",
       "       'BU_pvcos2_Cjp', 'BU_vtxprob_Cjp', 'JPSI_mass_Cmumu',\n",
       "       'JPSI_vtxprob_Cmumu', 'JPSI_pvcos2_Cmumu', 'JPSI_pvdistsignif2_Cmumu',\n",
       "       'PV_bestBang_RF_CL', 'SAMEEVENT'],\n",
       "      dtype='object')"
      ]
     },
     "execution_count": 6,
     "metadata": {},
     "output_type": "execute_result"
    }
   ],
   "source": [
    "MC_psi.columns"
   ]
  },
  {
   "cell_type": "code",
   "execution_count": 10,
   "metadata": {},
   "outputs": [
    {
     "name": "stderr",
     "output_type": "stream",
     "text": [
      "/home/yaourt/anaconda3/lib/python3.6/site-packages/matplotlib/figure.py:457: UserWarning: matplotlib is currently using a non-GUI backend, so cannot show the figure\n",
      "  \"matplotlib is currently using a non-GUI backend, \"\n"
     ]
    },
    {
     "data": {
      "image/png": "[encoded data removed]",
      "text/plain": [
       "<Figure size 720x576 with 1 Axes>"
      ]
     },
     "metadata": {
      "needs_background": "light"
     },
     "output_type": "display_data"
    }
   ],
   "source": [
    "f, ax = plt.subplots(figsize=(10, 8))\n",
    "ax.set_xlim(-0.01, 0.01)\n",
    "\n",
    "sns.distplot(MC_psi.delta_phi_mass, bins=500, kde=False, norm_hist=True, label='psi')\n",
    "sns.distplot(MC_X.delta_phi_mass, bins=500, kde=False, norm_hist=True, label='X')\n",
    "# sns.distplot(MC_X, hist_kws={'range': [-0.05, 0.05]})\n",
    "\n",
    "plt.legend()\n",
    "f.show()\n",
    "f.savefig('delta_resol_comp.png')\n"
   ]
  },
  {
   "cell_type": "code",
   "execution_count": null,
   "metadata": {},
   "outputs": [],
   "source": []
  }
 ],
 "metadata": {
  "kernelspec": {
   "display_name": "Python 3",
   "language": "python",
   "name": "python3"
  },
  "language_info": {
   "codemirror_mode": {
    "name": "ipython",
    "version": 3
   },
   "file_extension": ".py",
   "mimetype": "text/x-python",
   "name": "python",
   "nbconvert_exporter": "python",
   "pygments_lexer": "ipython3",
   "version": "3.6.8"
  }
 },
 "nbformat": 4,
 "nbformat_minor": 2
}
