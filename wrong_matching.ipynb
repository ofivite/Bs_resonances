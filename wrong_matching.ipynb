{
 "cells": [
  {
   "cell_type": "code",
   "execution_count": 1,
   "metadata": {},
   "outputs": [
    {
     "name": "stdout",
     "output_type": "stream",
     "text": [
      "Welcome to JupyROOT 6.14/04\n"
     ]
    }
   ],
   "source": [
    "import ROOT\n",
    "from ROOT import RooFit as RF\n",
    "import root_numpy as rnp\n",
    "from root_pandas import read_root\n",
    "\n",
    "import pandas as pd\n",
    "import numpy as np\n",
    "import seaborn as sns\n",
    "import matplotlib.pyplot as plt\n",
    "import graphviz\n",
    "import itertools"
   ]
  },
  {
   "cell_type": "code",
   "execution_count": 31,
   "metadata": {},
   "outputs": [],
   "source": [
    "mode = 'psi'\n",
    "refl_ON = False\n",
    "get_MC_N_evts = False\n",
    "\n",
    "### ----------      options are Bs, phi, control\n",
    "sPlot_from_1 = 'Bs'; sPlot_from_2 = 'phi';  ## for 2D fit\n",
    "sPlot_cut = 'control'; sPlot_from = 'Bs';   ## for sidebands+sPlot\n",
    "sPlot_to = 'phi'                        ## common\n",
    "\n",
    "if sPlot_from != 'Bs': refl_ON = False\n",
    "sPlot_from_text = mode if sPlot_from == 'control' else sPlot_from\n",
    "sPlot_to_text = mode if sPlot_to == 'control' else sPlot_to\n",
    "refl_line = '_refl' if refl_ON else ''\n",
    "# gStyle.SetTitleFontSize(.085)\n",
    "\n",
    "left_discr_data =  5.3669 - 0.2; right_discr_data = 5.3669 + 0.2; nbins_discr_data = 40\n",
    "left_discr_MC =  5.3669 - 0.035; right_discr_MC = 5.3669 + 0.035; nbins_discr_MC = 35\n",
    "\n",
    "# lrn_phi_data = {'X': [1.0195 - 0.016, 1.0195 + 0.016, 32], 'psi': [1.0195 - 0.016, 1.0195 + 0.016, 32]}\n",
    "lrn_phi_data = {'X': [1.0195 - 0.030, 1.0195 + 0.030, 30], 'psi': [1.0195 - 0.030, 1.0195 + 0.030, 30]}\n",
    "left_phi_data, right_phi_data, nbins_phi_data = lrn_phi_data[mode]\n",
    "\n",
    "# lrn_phi_MC = {'X': [1.0195 - 0.016, 1.0195 + 0.016, 32], 'psi': [1.0195 - 0.0155, 1.0195 + 0.0155, 31]}\n",
    "lrn_phi_MC = {'X': [1.0195 - 0.016, 1.0195 + 0.016, 32], 'psi': [1.0195 - 0.016, 1.0195 + 0.016, 32]}\n",
    "left_phi_MC, right_phi_MC, nbins_phi_MC = lrn_phi_MC[mode]\n",
    "\n",
    "# lrn = left, right, nbins\n",
    "lrn_control_MC = {'X': [3.872 - 0.025, 3.872 + 0.025, 50], 'psi': [3.686 - 0.025, 3.686 + 0.025, 50]}\n",
    "# lrn_control_data = {'X': [3.872 - 0.065, 3.872 + 0.065, 65], 'psi': [3.686 - 0.05, 3.686 + 0.05, 50]}\n",
    "lrn_control_data = {'X': [3.872 - 0.06, 3.872 + 0.06, 30], 'psi': [3.686 - 0.05, 3.686 + 0.05, 50]}\n",
    "\n",
    "left_control_MC, right_control_MC, nbins_control_MC = lrn_control_MC[mode]\n",
    "left_control_data, right_control_data, nbins_control_data = lrn_control_data[mode]\n"
   ]
  },
  {
   "cell_type": "code",
   "execution_count": 51,
   "metadata": {},
   "outputs": [],
   "source": [
    "variables = ( [\n",
    "\n",
    "# Intermediate particle's pt and eta\n",
    "    \n",
    "#  'mu_1_pt',  'mu_1_eta',\n",
    "#  'mu_2_pt',  'mu_2_eta',\n",
    "    \n",
    "    \n",
    "#  'K1_pt',  'K1_eta',\n",
    "#  'K2_pt',  'K2_eta',   \n",
    "\n",
    "#  'PI1_pt',  'PI1_eta',\n",
    "#  'PI2_pt',  'PI2_eta',   \n",
    "  \n",
    "# #  'JP_pt',   'JP_eta',\n",
    "#  'X_pt',   'X_eta',\n",
    "#  'phi_pt', 'phi_eta',\n",
    "    \n",
    "#  'BU_pt_Cjp', 'BU_eta_Cjp', \n",
    "\n",
    "    \n",
    " 'BU_pvcos2_Cjp', # 2D cosine of a Bs pointing angle\n",
    " 'BU_vtxprob_Cjp', # p-value of a vtx kinematic fit under the chi^2 null hypothesis (aka vertex probability)\n",
    " 'BU_pvdistsignif2_Cjp', # flight distance significance of a Bs meson relative to the primary vertex\n",
    "    \n",
    "#  'PV_bestBang_RF_CL', # PV vertex probability\n",
    "    \n",
    " 'PIPI_mass_Cjp', 'X_mass_Cjp', 'PHI_mass_Cjp', 'BU_mass_Cjp'  # masses\n",
    "] ) \n",
    "\n",
    "dR_vars = ['dR_mu1', 'dR_mu2', 'dR_pi1', 'dR_pi2', 'dR_K1', 'dR_K2',\n",
    "           'dR_mu1_vv', 'dR_mu2_vv', 'dR_pi1_vv', 'dR_pi2_vv', 'dR_K1_vv', 'dR_K2_vv']   # delta R variables for MC matching\n",
    "\n",
    "MC = read_root('BsToPsiPhi_Smatch_v1_pair_dR.root', columns = variables + dR_vars, \n",
    "               where = ('PIPI_mass_Cjp > 0.4 && PIPI_mass_Cjp < 0.6' + ' && ' + \n",
    "                       'PHI_mass_Cjp > ' + str(left_phi_MC) + ' && PHI_mass_Cjp < ' + str(right_phi_MC) + '&&' +\n",
    "                       'X_mass_Cjp >' + str(left_control_MC) + ' && X_mass_Cjp < ' + str(right_control_MC) + '&&' +\n",
    "                       'BU_mass_Cjp > ' + str(left_discr_MC) + ' && BU_mass_Cjp < ' + str(right_discr_MC)))  # psi\n",
    "\n",
    "MC_baseline = read_root('BsToPsiPhi_Smatch_v1_min_with_pt&eta_8e25fe7.root', columns = variables + dR_vars, \n",
    "               where = ('PIPI_mass_Cjp > 0.4 && PIPI_mass_Cjp < 0.6' + ' && ' + \n",
    "                       'PHI_mass_Cjp > ' + str(left_phi_MC) + ' && PHI_mass_Cjp < ' + str(right_phi_MC) + '&&' +\n",
    "                       'X_mass_Cjp >' + str(left_control_MC) + ' && X_mass_Cjp < ' + str(right_control_MC) + '&&' +\n",
    "                       'BU_mass_Cjp > ' + str(left_discr_MC) + ' && BU_mass_Cjp < ' + str(right_discr_MC)))  # psi\n",
    "# MC = read_root('BsToPsiPhi_Smatch_v1_min_with_pt&eta_8e25fe7.root', columns = variables + dR_vars) # psi\n",
    "# data = read_root('new_2_with_more_psi_less.root', columns = variables)"
   ]
  },
  {
   "cell_type": "code",
   "execution_count": 52,
   "metadata": {},
   "outputs": [
    {
     "data": {
      "text/plain": [
       "((84847, 19), (84847, 19))"
      ]
     },
     "execution_count": 52,
     "metadata": {},
     "output_type": "execute_result"
    }
   ],
   "source": [
    "MC.shape, MC_baseline.shape"
   ]
  },
  {
   "cell_type": "code",
   "execution_count": 53,
   "metadata": {},
   "outputs": [],
   "source": [
    "argmin_K1 = MC[['dR_K1', 'dR_K1_vv']].idxmin(axis=1)\n",
    "argmin_K2 = MC[['dR_K2', 'dR_K2_vv']].idxmin(axis=1)\n",
    "argmin_mu1 = MC[['dR_mu1', 'dR_mu1_vv']].idxmin(axis=1)\n",
    "argmin_mu2 = MC[['dR_mu2', 'dR_mu2_vv']].idxmin(axis=1)\n",
    "argmin_pi1 = MC[['dR_pi1', 'dR_pi1_vv']].idxmin(axis=1)\n",
    "argmin_pi2 = MC[['dR_pi2', 'dR_pi2_vv']].idxmin(axis=1)"
   ]
  },
  {
   "cell_type": "code",
   "execution_count": 54,
   "metadata": {},
   "outputs": [],
   "source": [
    "argmin_K1 = argmin_K1.replace(to_replace='dR_K1_vv', value='dR_K2')\n",
    "argmin_K2 = argmin_K2.replace(to_replace='dR_K2_vv', value='dR_K1')\n",
    "argmin_mu1 = argmin_mu1.replace(to_replace='dR_mu1_vv', value='dR_mu2')\n",
    "argmin_mu2 = argmin_mu2.replace(to_replace='dR_mu2_vv', value='dR_mu1')\n",
    "argmin_pi1 = argmin_pi1.replace(to_replace='dR_pi1_vv', value='dR_pi2')\n",
    "argmin_pi2 = argmin_pi2.replace(to_replace='dR_pi2_vv', value='dR_pi1')"
   ]
  },
  {
   "cell_type": "code",
   "execution_count": 55,
   "metadata": {},
   "outputs": [
    {
     "data": {
      "text/plain": [
       "0    dR_K1\n",
       "1    dR_K2\n",
       "2    dR_K2\n",
       "3    dR_K2\n",
       "4    dR_K2\n",
       "dtype: object"
      ]
     },
     "execution_count": 55,
     "metadata": {},
     "output_type": "execute_result"
    }
   ],
   "source": [
    "argmin_K1[:5]"
   ]
  },
  {
   "cell_type": "code",
   "execution_count": 14,
   "metadata": {},
   "outputs": [
    {
     "data": {
      "text/plain": [
       "0       dR_K1\n",
       "1       dR_K1\n",
       "2       dR_K1\n",
       "3    dR_K1_vv\n",
       "4    dR_K1_vv\n",
       "dtype: object"
      ]
     },
     "execution_count": 14,
     "metadata": {},
     "output_type": "execute_result"
    }
   ],
   "source": [
    "argmin_K2[:5]"
   ]
  },
  {
   "cell_type": "code",
   "execution_count": 90,
   "metadata": {},
   "outputs": [
    {
     "data": {
      "text/plain": [
       "1011"
      ]
     },
     "execution_count": 90,
     "metadata": {},
     "output_type": "execute_result"
    }
   ],
   "source": [
    "bad_bad = (argmin_K1 == argmin_K2) | (argmin_mu1 == argmin_mu2) | (argmin_pi1 == argmin_pi2)\n",
    "sum(bad_bad)"
   ]
  },
  {
   "cell_type": "code",
   "execution_count": 99,
   "metadata": {},
   "outputs": [
    {
     "name": "stderr",
     "output_type": "stream",
     "text": [
      "/home/yaourt/anaconda3/lib/python3.6/site-packages/scipy/stats/stats.py:1713: FutureWarning: Using a non-tuple sequence for multidimensional indexing is deprecated; use `arr[tuple(seq)]` instead of `arr[seq]`. In the future this will be interpreted as an array index, `arr[np.array(seq)]`, which will result either in an error or a different result.\n",
      "  return np.add.reduce(sorted[indexer] * weights, axis=axis) / sumval\n"
     ]
    },
    {
     "data": {
      "text/plain": [
       "<matplotlib.axes._subplots.AxesSubplot at 0x7fd4e7eff588>"
      ]
     },
     "execution_count": 99,
     "metadata": {},
     "output_type": "execute_result"
    },
    {
     "data": {
      "image/png": "[encoded data removed]",
      "text/plain": [
       "<Figure size 432x288 with 1 Axes>"
      ]
     },
     "metadata": {
      "needs_background": "light"
     },
     "output_type": "display_data"
    }
   ],
   "source": [
    "sns.distplot(MC['BU_mass_Cjp'])"
   ]
  },
  {
   "cell_type": "code",
   "execution_count": 83,
   "metadata": {},
   "outputs": [
    {
     "name": "stderr",
     "output_type": "stream",
     "text": [
      "/home/yaourt/anaconda3/lib/python3.6/site-packages/scipy/stats/stats.py:1713: FutureWarning: Using a non-tuple sequence for multidimensional indexing is deprecated; use `arr[tuple(seq)]` instead of `arr[seq]`. In the future this will be interpreted as an array index, `arr[np.array(seq)]`, which will result either in an error or a different result.\n",
      "  return np.add.reduce(sorted[indexer] * weights, axis=axis) / sumval\n"
     ]
    },
    {
     "data": {
      "image/png": "[encoded data removed]",
      "text/plain": [
       "<Figure size 1440x360 with 3 Axes>"
      ]
     },
     "metadata": {
      "needs_background": "light"
     },
     "output_type": "display_data"
    }
   ],
   "source": [
    "f, axes = plt.subplots(1, 3, figsize=(20, 5))\n",
    "var_list = ['BU_mass_Cjp', 'X_mass_Cjp', 'PHI_mass_Cjp']\n",
    "for ax, var in zip(axes, var_list) :\n",
    "    sns.distplot(MC[bad_bad][var], ax=ax, label=var)\n",
    "# ax.set_xlim(3.4, 4.3)\n"
   ]
  },
  {
   "cell_type": "code",
   "execution_count": 64,
   "metadata": {},
   "outputs": [],
   "source": [
    "matching_mask_baseline = (MC_baseline['dR_mu1'] < 0.01) & (MC_baseline['dR_mu2'] < 0.01) & (MC_baseline['dR_pi1'] < 0.01) & (MC_baseline['dR_pi2'] < 0.01 )& (MC_baseline['dR_K1'] < 0.01) & (MC_baseline['dR_K2'] < 0.01) "
   ]
  },
  {
   "cell_type": "code",
   "execution_count": 65,
   "metadata": {},
   "outputs": [
    {
     "data": {
      "text/plain": [
       "(74758, (84847, 19))"
      ]
     },
     "execution_count": 65,
     "metadata": {},
     "output_type": "execute_result"
    }
   ],
   "source": [
    "sum(matching_mask_baseline), MC_baseline.shape"
   ]
  },
  {
   "cell_type": "code",
   "execution_count": 66,
   "metadata": {},
   "outputs": [
    {
     "data": {
      "text/plain": [
       "1.3523636266352765"
      ]
     },
     "execution_count": 66,
     "metadata": {},
     "output_type": "execute_result"
    }
   ],
   "source": [
    "sum(bad_bad) / sum(matching_mask_baseline) * 100"
   ]
  },
  {
   "cell_type": "code",
   "execution_count": null,
   "metadata": {},
   "outputs": [],
   "source": []
  },
  {
   "cell_type": "code",
   "execution_count": null,
   "metadata": {},
   "outputs": [],
   "source": []
  },
  {
   "cell_type": "code",
   "execution_count": 89,
   "metadata": {},
   "outputs": [
    {
     "name": "stderr",
     "output_type": "stream",
     "text": [
      "/home/yaourt/anaconda3/lib/python3.6/site-packages/scipy/stats/stats.py:1713: FutureWarning: Using a non-tuple sequence for multidimensional indexing is deprecated; use `arr[tuple(seq)]` instead of `arr[seq]`. In the future this will be interpreted as an array index, `arr[np.array(seq)]`, which will result either in an error or a different result.\n",
      "  return np.add.reduce(sorted[indexer] * weights, axis=axis) / sumval\n"
     ]
    },
    {
     "data": {
      "text/plain": [
       "<matplotlib.axes._subplots.AxesSubplot at 0x7fd4e7ccec50>"
      ]
     },
     "execution_count": 89,
     "metadata": {},
     "output_type": "execute_result"
    },
    {
     "data": {
      "image/png": "[encoded data removed]",
      "text/plain": [
       "<Figure size 720x576 with 1 Axes>"
      ]
     },
     "metadata": {
      "needs_background": "light"
     },
     "output_type": "display_data"
    }
   ],
   "source": [
    "f, axes = plt.subplots(1, 1, figsize=(10, 8))\n",
    "sns.distplot(MC['dR_K1'], hist=True, kde=True)\n",
    "sns.distplot(MC['dR_K1_vv'], hist=True, kde=True)"
   ]
  },
  {
   "cell_type": "code",
   "execution_count": 98,
   "metadata": {},
   "outputs": [
    {
     "data": {
      "text/plain": [
       "PHI_mass_Cjp            1.018487\n",
       "X_mass_Cjp              3.687399\n",
       "BU_vtxprob_Cjp          0.423459\n",
       "dR_pi1                  0.098922\n",
       "BU_pvdistsignif2_Cjp    6.177044\n",
       "dR_K2                   0.034833\n",
       "dR_K2_vv                0.043946\n",
       "dR_mu1                  0.000655\n",
       "dR_pi2                  0.098193\n",
       "dR_pi2_vv               0.109716\n",
       "PIPI_mass_Cjp           0.490285\n",
       "BU_mass_Cjp             5.346784\n",
       "dR_mu1_vv               0.136882\n",
       "dR_mu2                  0.000350\n",
       "dR_pi1_vv               0.021873\n",
       "dR_K1_vv                0.000524\n",
       "dR_mu2_vv               0.137737\n",
       "dR_K1                   0.030114\n",
       "BU_pvcos2_Cjp           0.999953\n",
       "Name: 222, dtype: float64"
      ]
     },
     "execution_count": 98,
     "metadata": {},
     "output_type": "execute_result"
    }
   ],
   "source": [
    "MC.iloc[222]"
   ]
  },
  {
   "cell_type": "code",
   "execution_count": 96,
   "metadata": {},
   "outputs": [
    {
     "data": {
      "text/html": [
       "<div>\n",
       "<style scoped>\n",
       "    .dataframe tbody tr th:only-of-type {\n",
       "        vertical-align: middle;\n",
       "    }\n",
       "\n",
       "    .dataframe tbody tr th {\n",
       "        vertical-align: top;\n",
       "    }\n",
       "\n",
       "    .dataframe thead th {\n",
       "        text-align: right;\n",
       "    }\n",
       "</style>\n",
       "<table border=\"1\" class=\"dataframe\">\n",
       "  <thead>\n",
       "    <tr style=\"text-align: right;\">\n",
       "      <th></th>\n",
       "      <th>dR_K1</th>\n",
       "      <th>dR_K1_vv</th>\n",
       "      <th>dR_K2</th>\n",
       "      <th>dR_K2_vv</th>\n",
       "    </tr>\n",
       "  </thead>\n",
       "  <tbody>\n",
       "    <tr>\n",
       "      <th>153</th>\n",
       "      <td>0.004456</td>\n",
       "      <td>0.177536</td>\n",
       "      <td>0.258177</td>\n",
       "      <td>0.097073</td>\n",
       "    </tr>\n",
       "    <tr>\n",
       "      <th>221</th>\n",
       "      <td>0.030114</td>\n",
       "      <td>0.000524</td>\n",
       "      <td>0.034833</td>\n",
       "      <td>0.043946</td>\n",
       "    </tr>\n",
       "    <tr>\n",
       "      <th>222</th>\n",
       "      <td>0.030114</td>\n",
       "      <td>0.000524</td>\n",
       "      <td>0.034833</td>\n",
       "      <td>0.043946</td>\n",
       "    </tr>\n",
       "    <tr>\n",
       "      <th>608</th>\n",
       "      <td>0.180868</td>\n",
       "      <td>0.184955</td>\n",
       "      <td>0.249670</td>\n",
       "      <td>0.215980</td>\n",
       "    </tr>\n",
       "    <tr>\n",
       "      <th>763</th>\n",
       "      <td>0.226834</td>\n",
       "      <td>0.001216</td>\n",
       "      <td>0.121493</td>\n",
       "      <td>0.154806</td>\n",
       "    </tr>\n",
       "    <tr>\n",
       "      <th>933</th>\n",
       "      <td>0.055727</td>\n",
       "      <td>0.060528</td>\n",
       "      <td>0.064842</td>\n",
       "      <td>0.001817</td>\n",
       "    </tr>\n",
       "    <tr>\n",
       "      <th>954</th>\n",
       "      <td>0.031575</td>\n",
       "      <td>0.000681</td>\n",
       "      <td>0.008753</td>\n",
       "      <td>0.027278</td>\n",
       "    </tr>\n",
       "    <tr>\n",
       "      <th>969</th>\n",
       "      <td>0.109885</td>\n",
       "      <td>0.001704</td>\n",
       "      <td>0.136915</td>\n",
       "      <td>0.138884</td>\n",
       "    </tr>\n",
       "    <tr>\n",
       "      <th>987</th>\n",
       "      <td>0.166102</td>\n",
       "      <td>0.203265</td>\n",
       "      <td>0.341658</td>\n",
       "      <td>0.003975</td>\n",
       "    </tr>\n",
       "    <tr>\n",
       "      <th>1129</th>\n",
       "      <td>0.322794</td>\n",
       "      <td>0.273693</td>\n",
       "      <td>0.386794</td>\n",
       "      <td>0.435468</td>\n",
       "    </tr>\n",
       "    <tr>\n",
       "      <th>1551</th>\n",
       "      <td>0.203588</td>\n",
       "      <td>0.176019</td>\n",
       "      <td>0.037405</td>\n",
       "      <td>0.047036</td>\n",
       "    </tr>\n",
       "    <tr>\n",
       "      <th>2066</th>\n",
       "      <td>0.107569</td>\n",
       "      <td>0.003202</td>\n",
       "      <td>0.168165</td>\n",
       "      <td>0.274858</td>\n",
       "    </tr>\n",
       "    <tr>\n",
       "      <th>2906</th>\n",
       "      <td>0.000819</td>\n",
       "      <td>0.000592</td>\n",
       "      <td>0.003199</td>\n",
       "      <td>0.003797</td>\n",
       "    </tr>\n",
       "    <tr>\n",
       "      <th>3614</th>\n",
       "      <td>0.001158</td>\n",
       "      <td>0.003848</td>\n",
       "      <td>0.002537</td>\n",
       "      <td>0.002431</td>\n",
       "    </tr>\n",
       "    <tr>\n",
       "      <th>4290</th>\n",
       "      <td>0.240540</td>\n",
       "      <td>0.165609</td>\n",
       "      <td>0.001835</td>\n",
       "      <td>0.163556</td>\n",
       "    </tr>\n",
       "    <tr>\n",
       "      <th>4633</th>\n",
       "      <td>0.242420</td>\n",
       "      <td>0.101017</td>\n",
       "      <td>0.116163</td>\n",
       "      <td>0.197628</td>\n",
       "    </tr>\n",
       "    <tr>\n",
       "      <th>4949</th>\n",
       "      <td>0.200142</td>\n",
       "      <td>0.159268</td>\n",
       "      <td>0.003808</td>\n",
       "      <td>0.154140</td>\n",
       "    </tr>\n",
       "    <tr>\n",
       "      <th>4974</th>\n",
       "      <td>0.285053</td>\n",
       "      <td>0.232714</td>\n",
       "      <td>0.207230</td>\n",
       "      <td>0.279676</td>\n",
       "    </tr>\n",
       "    <tr>\n",
       "      <th>5171</th>\n",
       "      <td>0.002292</td>\n",
       "      <td>0.003508</td>\n",
       "      <td>0.003412</td>\n",
       "      <td>0.002553</td>\n",
       "    </tr>\n",
       "    <tr>\n",
       "      <th>5195</th>\n",
       "      <td>0.089356</td>\n",
       "      <td>0.130486</td>\n",
       "      <td>0.138549</td>\n",
       "      <td>0.001843</td>\n",
       "    </tr>\n",
       "    <tr>\n",
       "      <th>5626</th>\n",
       "      <td>0.001502</td>\n",
       "      <td>0.000939</td>\n",
       "      <td>0.001338</td>\n",
       "      <td>0.001506</td>\n",
       "    </tr>\n",
       "    <tr>\n",
       "      <th>5802</th>\n",
       "      <td>0.210306</td>\n",
       "      <td>0.000170</td>\n",
       "      <td>0.088395</td>\n",
       "      <td>0.126358</td>\n",
       "    </tr>\n",
       "    <tr>\n",
       "      <th>5885</th>\n",
       "      <td>0.146067</td>\n",
       "      <td>0.000442</td>\n",
       "      <td>0.211310</td>\n",
       "      <td>0.214034</td>\n",
       "    </tr>\n",
       "    <tr>\n",
       "      <th>6055</th>\n",
       "      <td>0.137486</td>\n",
       "      <td>0.287879</td>\n",
       "      <td>0.172652</td>\n",
       "      <td>0.003037</td>\n",
       "    </tr>\n",
       "    <tr>\n",
       "      <th>6317</th>\n",
       "      <td>0.000842</td>\n",
       "      <td>0.137293</td>\n",
       "      <td>0.108543</td>\n",
       "      <td>0.041030</td>\n",
       "    </tr>\n",
       "    <tr>\n",
       "      <th>7961</th>\n",
       "      <td>0.004885</td>\n",
       "      <td>0.001235</td>\n",
       "      <td>0.002415</td>\n",
       "      <td>0.004817</td>\n",
       "    </tr>\n",
       "    <tr>\n",
       "      <th>8073</th>\n",
       "      <td>0.066792</td>\n",
       "      <td>0.000197</td>\n",
       "      <td>0.048227</td>\n",
       "      <td>0.049340</td>\n",
       "    </tr>\n",
       "    <tr>\n",
       "      <th>8652</th>\n",
       "      <td>0.217097</td>\n",
       "      <td>0.112887</td>\n",
       "      <td>0.006647</td>\n",
       "      <td>0.142576</td>\n",
       "    </tr>\n",
       "    <tr>\n",
       "      <th>8704</th>\n",
       "      <td>0.017986</td>\n",
       "      <td>0.016876</td>\n",
       "      <td>0.000903</td>\n",
       "      <td>0.026379</td>\n",
       "    </tr>\n",
       "    <tr>\n",
       "      <th>8987</th>\n",
       "      <td>0.099158</td>\n",
       "      <td>0.050205</td>\n",
       "      <td>0.070083</td>\n",
       "      <td>0.124673</td>\n",
       "    </tr>\n",
       "    <tr>\n",
       "      <th>...</th>\n",
       "      <td>...</td>\n",
       "      <td>...</td>\n",
       "      <td>...</td>\n",
       "      <td>...</td>\n",
       "    </tr>\n",
       "    <tr>\n",
       "      <th>76845</th>\n",
       "      <td>0.002864</td>\n",
       "      <td>0.204863</td>\n",
       "      <td>0.238286</td>\n",
       "      <td>0.202790</td>\n",
       "    </tr>\n",
       "    <tr>\n",
       "      <th>77181</th>\n",
       "      <td>0.011748</td>\n",
       "      <td>0.007900</td>\n",
       "      <td>0.008965</td>\n",
       "      <td>0.009862</td>\n",
       "    </tr>\n",
       "    <tr>\n",
       "      <th>77289</th>\n",
       "      <td>0.003677</td>\n",
       "      <td>0.001303</td>\n",
       "      <td>0.001895</td>\n",
       "      <td>0.004775</td>\n",
       "    </tr>\n",
       "    <tr>\n",
       "      <th>77388</th>\n",
       "      <td>0.167105</td>\n",
       "      <td>0.180048</td>\n",
       "      <td>0.329726</td>\n",
       "      <td>0.319000</td>\n",
       "    </tr>\n",
       "    <tr>\n",
       "      <th>77448</th>\n",
       "      <td>0.327653</td>\n",
       "      <td>0.415075</td>\n",
       "      <td>0.203514</td>\n",
       "      <td>0.117250</td>\n",
       "    </tr>\n",
       "    <tr>\n",
       "      <th>77479</th>\n",
       "      <td>0.107927</td>\n",
       "      <td>0.001235</td>\n",
       "      <td>0.089206</td>\n",
       "      <td>0.164051</td>\n",
       "    </tr>\n",
       "    <tr>\n",
       "      <th>77742</th>\n",
       "      <td>0.008904</td>\n",
       "      <td>0.059734</td>\n",
       "      <td>0.079803</td>\n",
       "      <td>0.056029</td>\n",
       "    </tr>\n",
       "    <tr>\n",
       "      <th>77793</th>\n",
       "      <td>0.186703</td>\n",
       "      <td>0.003676</td>\n",
       "      <td>0.206744</td>\n",
       "      <td>0.267153</td>\n",
       "    </tr>\n",
       "    <tr>\n",
       "      <th>77988</th>\n",
       "      <td>0.004472</td>\n",
       "      <td>0.211553</td>\n",
       "      <td>0.191658</td>\n",
       "      <td>0.187111</td>\n",
       "    </tr>\n",
       "    <tr>\n",
       "      <th>78709</th>\n",
       "      <td>0.057020</td>\n",
       "      <td>0.093984</td>\n",
       "      <td>0.088379</td>\n",
       "      <td>0.051577</td>\n",
       "    </tr>\n",
       "    <tr>\n",
       "      <th>79063</th>\n",
       "      <td>0.002903</td>\n",
       "      <td>0.131693</td>\n",
       "      <td>0.305515</td>\n",
       "      <td>0.208726</td>\n",
       "    </tr>\n",
       "    <tr>\n",
       "      <th>79064</th>\n",
       "      <td>0.002903</td>\n",
       "      <td>0.131693</td>\n",
       "      <td>0.305515</td>\n",
       "      <td>0.208726</td>\n",
       "    </tr>\n",
       "    <tr>\n",
       "      <th>79196</th>\n",
       "      <td>0.000968</td>\n",
       "      <td>0.003335</td>\n",
       "      <td>0.003972</td>\n",
       "      <td>0.000702</td>\n",
       "    </tr>\n",
       "    <tr>\n",
       "      <th>79768</th>\n",
       "      <td>0.009121</td>\n",
       "      <td>0.001036</td>\n",
       "      <td>0.004551</td>\n",
       "      <td>0.006896</td>\n",
       "    </tr>\n",
       "    <tr>\n",
       "      <th>79858</th>\n",
       "      <td>0.042601</td>\n",
       "      <td>0.001349</td>\n",
       "      <td>0.210423</td>\n",
       "      <td>0.248266</td>\n",
       "    </tr>\n",
       "    <tr>\n",
       "      <th>80232</th>\n",
       "      <td>0.206749</td>\n",
       "      <td>0.000445</td>\n",
       "      <td>0.301216</td>\n",
       "      <td>0.490692</td>\n",
       "    </tr>\n",
       "    <tr>\n",
       "      <th>81186</th>\n",
       "      <td>0.204999</td>\n",
       "      <td>0.248654</td>\n",
       "      <td>0.101835</td>\n",
       "      <td>0.093252</td>\n",
       "    </tr>\n",
       "    <tr>\n",
       "      <th>81471</th>\n",
       "      <td>0.047615</td>\n",
       "      <td>0.003902</td>\n",
       "      <td>0.057734</td>\n",
       "      <td>0.074494</td>\n",
       "    </tr>\n",
       "    <tr>\n",
       "      <th>81623</th>\n",
       "      <td>0.132918</td>\n",
       "      <td>0.001688</td>\n",
       "      <td>0.160267</td>\n",
       "      <td>0.209896</td>\n",
       "    </tr>\n",
       "    <tr>\n",
       "      <th>81772</th>\n",
       "      <td>0.083816</td>\n",
       "      <td>0.002085</td>\n",
       "      <td>0.252595</td>\n",
       "      <td>0.256605</td>\n",
       "    </tr>\n",
       "    <tr>\n",
       "      <th>82036</th>\n",
       "      <td>0.596497</td>\n",
       "      <td>0.527346</td>\n",
       "      <td>0.538112</td>\n",
       "      <td>0.577102</td>\n",
       "    </tr>\n",
       "    <tr>\n",
       "      <th>82436</th>\n",
       "      <td>0.141965</td>\n",
       "      <td>0.149720</td>\n",
       "      <td>0.163172</td>\n",
       "      <td>0.015778</td>\n",
       "    </tr>\n",
       "    <tr>\n",
       "      <th>82530</th>\n",
       "      <td>0.001675</td>\n",
       "      <td>0.000829</td>\n",
       "      <td>0.001011</td>\n",
       "      <td>0.003160</td>\n",
       "    </tr>\n",
       "    <tr>\n",
       "      <th>82809</th>\n",
       "      <td>0.344060</td>\n",
       "      <td>0.284426</td>\n",
       "      <td>0.003036</td>\n",
       "      <td>0.269209</td>\n",
       "    </tr>\n",
       "    <tr>\n",
       "      <th>82810</th>\n",
       "      <td>0.320266</td>\n",
       "      <td>0.273197</td>\n",
       "      <td>0.003036</td>\n",
       "      <td>0.269209</td>\n",
       "    </tr>\n",
       "    <tr>\n",
       "      <th>83036</th>\n",
       "      <td>0.124170</td>\n",
       "      <td>0.000907</td>\n",
       "      <td>0.319242</td>\n",
       "      <td>0.375390</td>\n",
       "    </tr>\n",
       "    <tr>\n",
       "      <th>84085</th>\n",
       "      <td>0.001555</td>\n",
       "      <td>0.103281</td>\n",
       "      <td>0.140372</td>\n",
       "      <td>0.133979</td>\n",
       "    </tr>\n",
       "    <tr>\n",
       "      <th>84263</th>\n",
       "      <td>0.241699</td>\n",
       "      <td>0.215683</td>\n",
       "      <td>0.004662</td>\n",
       "      <td>0.294138</td>\n",
       "    </tr>\n",
       "    <tr>\n",
       "      <th>84598</th>\n",
       "      <td>0.058931</td>\n",
       "      <td>0.098485</td>\n",
       "      <td>0.258766</td>\n",
       "      <td>0.217629</td>\n",
       "    </tr>\n",
       "    <tr>\n",
       "      <th>84773</th>\n",
       "      <td>0.019962</td>\n",
       "      <td>0.001224</td>\n",
       "      <td>0.142468</td>\n",
       "      <td>0.159661</td>\n",
       "    </tr>\n",
       "  </tbody>\n",
       "</table>\n",
       "<p>312 rows × 4 columns</p>\n",
       "</div>"
      ],
      "text/plain": [
       "          dR_K1  dR_K1_vv     dR_K2  dR_K2_vv\n",
       "153    0.004456  0.177536  0.258177  0.097073\n",
       "221    0.030114  0.000524  0.034833  0.043946\n",
       "222    0.030114  0.000524  0.034833  0.043946\n",
       "608    0.180868  0.184955  0.249670  0.215980\n",
       "763    0.226834  0.001216  0.121493  0.154806\n",
       "933    0.055727  0.060528  0.064842  0.001817\n",
       "954    0.031575  0.000681  0.008753  0.027278\n",
       "969    0.109885  0.001704  0.136915  0.138884\n",
       "987    0.166102  0.203265  0.341658  0.003975\n",
       "1129   0.322794  0.273693  0.386794  0.435468\n",
       "1551   0.203588  0.176019  0.037405  0.047036\n",
       "2066   0.107569  0.003202  0.168165  0.274858\n",
       "2906   0.000819  0.000592  0.003199  0.003797\n",
       "3614   0.001158  0.003848  0.002537  0.002431\n",
       "4290   0.240540  0.165609  0.001835  0.163556\n",
       "4633   0.242420  0.101017  0.116163  0.197628\n",
       "4949   0.200142  0.159268  0.003808  0.154140\n",
       "4974   0.285053  0.232714  0.207230  0.279676\n",
       "5171   0.002292  0.003508  0.003412  0.002553\n",
       "5195   0.089356  0.130486  0.138549  0.001843\n",
       "5626   0.001502  0.000939  0.001338  0.001506\n",
       "5802   0.210306  0.000170  0.088395  0.126358\n",
       "5885   0.146067  0.000442  0.211310  0.214034\n",
       "6055   0.137486  0.287879  0.172652  0.003037\n",
       "6317   0.000842  0.137293  0.108543  0.041030\n",
       "7961   0.004885  0.001235  0.002415  0.004817\n",
       "8073   0.066792  0.000197  0.048227  0.049340\n",
       "8652   0.217097  0.112887  0.006647  0.142576\n",
       "8704   0.017986  0.016876  0.000903  0.026379\n",
       "8987   0.099158  0.050205  0.070083  0.124673\n",
       "...         ...       ...       ...       ...\n",
       "76845  0.002864  0.204863  0.238286  0.202790\n",
       "77181  0.011748  0.007900  0.008965  0.009862\n",
       "77289  0.003677  0.001303  0.001895  0.004775\n",
       "77388  0.167105  0.180048  0.329726  0.319000\n",
       "77448  0.327653  0.415075  0.203514  0.117250\n",
       "77479  0.107927  0.001235  0.089206  0.164051\n",
       "77742  0.008904  0.059734  0.079803  0.056029\n",
       "77793  0.186703  0.003676  0.206744  0.267153\n",
       "77988  0.004472  0.211553  0.191658  0.187111\n",
       "78709  0.057020  0.093984  0.088379  0.051577\n",
       "79063  0.002903  0.131693  0.305515  0.208726\n",
       "79064  0.002903  0.131693  0.305515  0.208726\n",
       "79196  0.000968  0.003335  0.003972  0.000702\n",
       "79768  0.009121  0.001036  0.004551  0.006896\n",
       "79858  0.042601  0.001349  0.210423  0.248266\n",
       "80232  0.206749  0.000445  0.301216  0.490692\n",
       "81186  0.204999  0.248654  0.101835  0.093252\n",
       "81471  0.047615  0.003902  0.057734  0.074494\n",
       "81623  0.132918  0.001688  0.160267  0.209896\n",
       "81772  0.083816  0.002085  0.252595  0.256605\n",
       "82036  0.596497  0.527346  0.538112  0.577102\n",
       "82436  0.141965  0.149720  0.163172  0.015778\n",
       "82530  0.001675  0.000829  0.001011  0.003160\n",
       "82809  0.344060  0.284426  0.003036  0.269209\n",
       "82810  0.320266  0.273197  0.003036  0.269209\n",
       "83036  0.124170  0.000907  0.319242  0.375390\n",
       "84085  0.001555  0.103281  0.140372  0.133979\n",
       "84263  0.241699  0.215683  0.004662  0.294138\n",
       "84598  0.058931  0.098485  0.258766  0.217629\n",
       "84773  0.019962  0.001224  0.142468  0.159661\n",
       "\n",
       "[312 rows x 4 columns]"
      ]
     },
     "execution_count": 96,
     "metadata": {},
     "output_type": "execute_result"
    }
   ],
   "source": [
    "MC[argmin_K1 == argmin_K2][['dR_K1', 'dR_K1_vv', 'dR_K2', 'dR_K2_vv']]"
   ]
  },
  {
   "cell_type": "code",
   "execution_count": null,
   "metadata": {},
   "outputs": [],
   "source": []
  }
 ],
 "metadata": {
  "kernelspec": {
   "display_name": "Python 3",
   "language": "python",
   "name": "python3"
  },
  "language_info": {
   "codemirror_mode": {
    "name": "ipython",
    "version": 3
   },
   "file_extension": ".py",
   "mimetype": "text/x-python",
   "name": "python",
   "nbconvert_exporter": "python",
   "pygments_lexer": "ipython3",
   "version": "3.6.6"
  }
 },
 "nbformat": 4,
 "nbformat_minor": 2
}
